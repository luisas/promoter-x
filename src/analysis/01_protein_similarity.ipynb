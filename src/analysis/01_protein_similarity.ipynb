{
 "cells": [
  {
   "cell_type": "markdown",
   "metadata": {},
   "source": [
    "# Check how much similarity in protein sequences relate to similarity in gene expression "
   ]
  },
  {
   "cell_type": "code",
   "execution_count": 2,
   "metadata": {},
   "outputs": [],
   "source": [
    "import pandas as pd\n",
    "import numpy as np\n",
    "import seaborn as sns\n",
    "import matplotlib.colors as mcolors\n",
    "import plotly.express as px\n",
    "import plotly.graph_objects as go\n",
    "fig = go.Figure()\n",
    "summary_csv = \"../../results/summary_csv/expression_exp.csv\"\n",
    "df_complete = pd.read_csv(summary_csv)\n",
    "\n",
    "# How many hits per gene\n",
    "gene_counts= df_complete.groupby(\"gene1\")[\"gene2\"].count()\n",
    "#merge the gene counts with the original dataframe\n",
    "df_complete = df_complete.merge(gene_counts, on=\"gene1\", how=\"left\")\n",
    "# relabel gene2 y to hits\n",
    "df_complete.rename(columns={\"gene2_y\": \"hits\"}, inplace=True)\n",
    "# rename gene2_x to gene2\n",
    "df_complete.rename(columns={\"gene2_x\": \"gene2\"}, inplace=True)\n"
   ]
  },
  {
   "cell_type": "code",
   "execution_count": 3,
   "metadata": {},
   "outputs": [
    {
     "data": {
      "text/html": [
       "<div>\n",
       "<style scoped>\n",
       "    .dataframe tbody tr th:only-of-type {\n",
       "        vertical-align: middle;\n",
       "    }\n",
       "\n",
       "    .dataframe tbody tr th {\n",
       "        vertical-align: top;\n",
       "    }\n",
       "\n",
       "    .dataframe thead th {\n",
       "        text-align: right;\n",
       "    }\n",
       "</style>\n",
       "<table border=\"1\" class=\"dataframe\">\n",
       "  <thead>\n",
       "    <tr style=\"text-align: right;\">\n",
       "      <th></th>\n",
       "      <th>gene1</th>\n",
       "      <th>gene2</th>\n",
       "      <th>similarity_protein</th>\n",
       "      <th>gene_id_x</th>\n",
       "      <th>pme_TPM_x</th>\n",
       "      <th>complete_name</th>\n",
       "      <th>gene_id_y</th>\n",
       "      <th>pme_TPM_y</th>\n",
       "      <th>hits</th>\n",
       "    </tr>\n",
       "  </thead>\n",
       "  <tbody>\n",
       "    <tr>\n",
       "      <th>0</th>\n",
       "      <td>ENSG00000162998</td>\n",
       "      <td>ENSG00000162998</td>\n",
       "      <td>1.000</td>\n",
       "      <td>ENSG00000162998</td>\n",
       "      <td>0.10</td>\n",
       "      <td>liver_ENCFF658MFL</td>\n",
       "      <td>ENSG00000162998</td>\n",
       "      <td>0.10</td>\n",
       "      <td>68</td>\n",
       "    </tr>\n",
       "    <tr>\n",
       "      <th>1</th>\n",
       "      <td>ENSG00000162998</td>\n",
       "      <td>ENSG00000163251</td>\n",
       "      <td>0.382</td>\n",
       "      <td>ENSG00000162998</td>\n",
       "      <td>0.10</td>\n",
       "      <td>liver_ENCFF658MFL</td>\n",
       "      <td>ENSG00000163251</td>\n",
       "      <td>13.09</td>\n",
       "      <td>68</td>\n",
       "    </tr>\n",
       "    <tr>\n",
       "      <th>2</th>\n",
       "      <td>ENSG00000162998</td>\n",
       "      <td>ENSG00000155760</td>\n",
       "      <td>0.465</td>\n",
       "      <td>ENSG00000162998</td>\n",
       "      <td>0.10</td>\n",
       "      <td>liver_ENCFF658MFL</td>\n",
       "      <td>ENSG00000155760</td>\n",
       "      <td>0.22</td>\n",
       "      <td>68</td>\n",
       "    </tr>\n",
       "    <tr>\n",
       "      <th>3</th>\n",
       "      <td>ENSG00000162998</td>\n",
       "      <td>ENSG00000177283</td>\n",
       "      <td>0.492</td>\n",
       "      <td>ENSG00000162998</td>\n",
       "      <td>0.10</td>\n",
       "      <td>liver_ENCFF658MFL</td>\n",
       "      <td>ENSG00000177283</td>\n",
       "      <td>2.03</td>\n",
       "      <td>68</td>\n",
       "    </tr>\n",
       "    <tr>\n",
       "      <th>4</th>\n",
       "      <td>ENSG00000162998</td>\n",
       "      <td>ENSG00000180340</td>\n",
       "      <td>0.509</td>\n",
       "      <td>ENSG00000162998</td>\n",
       "      <td>0.10</td>\n",
       "      <td>liver_ENCFF658MFL</td>\n",
       "      <td>ENSG00000180340</td>\n",
       "      <td>0.07</td>\n",
       "      <td>68</td>\n",
       "    </tr>\n",
       "    <tr>\n",
       "      <th>...</th>\n",
       "      <td>...</td>\n",
       "      <td>...</td>\n",
       "      <td>...</td>\n",
       "      <td>...</td>\n",
       "      <td>...</td>\n",
       "      <td>...</td>\n",
       "      <td>...</td>\n",
       "      <td>...</td>\n",
       "      <td>...</td>\n",
       "    </tr>\n",
       "    <tr>\n",
       "      <th>63</th>\n",
       "      <td>ENSG00000162998</td>\n",
       "      <td>ENSG00000145423</td>\n",
       "      <td>0.273</td>\n",
       "      <td>ENSG00000162998</td>\n",
       "      <td>2.16</td>\n",
       "      <td>heart_ENCFF789UOH</td>\n",
       "      <td>ENSG00000145423</td>\n",
       "      <td>1.23</td>\n",
       "      <td>68</td>\n",
       "    </tr>\n",
       "    <tr>\n",
       "      <th>64</th>\n",
       "      <td>ENSG00000162998</td>\n",
       "      <td>ENSG00000104332</td>\n",
       "      <td>0.257</td>\n",
       "      <td>ENSG00000162998</td>\n",
       "      <td>2.16</td>\n",
       "      <td>heart_ENCFF789UOH</td>\n",
       "      <td>ENSG00000104332</td>\n",
       "      <td>39.29</td>\n",
       "      <td>68</td>\n",
       "    </tr>\n",
       "    <tr>\n",
       "      <th>65</th>\n",
       "      <td>ENSG00000162998</td>\n",
       "      <td>ENSG00000164930</td>\n",
       "      <td>0.330</td>\n",
       "      <td>ENSG00000162998</td>\n",
       "      <td>2.16</td>\n",
       "      <td>heart_ENCFF789UOH</td>\n",
       "      <td>ENSG00000164930</td>\n",
       "      <td>4.72</td>\n",
       "      <td>68</td>\n",
       "    </tr>\n",
       "    <tr>\n",
       "      <th>66</th>\n",
       "      <td>ENSG00000162998</td>\n",
       "      <td>ENSG00000074527</td>\n",
       "      <td>0.341</td>\n",
       "      <td>ENSG00000162998</td>\n",
       "      <td>2.16</td>\n",
       "      <td>heart_ENCFF789UOH</td>\n",
       "      <td>ENSG00000074527</td>\n",
       "      <td>31.60</td>\n",
       "      <td>68</td>\n",
       "    </tr>\n",
       "    <tr>\n",
       "      <th>67</th>\n",
       "      <td>ENSG00000162998</td>\n",
       "      <td>ENSG00000235718</td>\n",
       "      <td>0.310</td>\n",
       "      <td>ENSG00000162998</td>\n",
       "      <td>2.16</td>\n",
       "      <td>heart_ENCFF789UOH</td>\n",
       "      <td>ENSG00000235718</td>\n",
       "      <td>0.33</td>\n",
       "      <td>68</td>\n",
       "    </tr>\n",
       "  </tbody>\n",
       "</table>\n",
       "<p>68 rows × 9 columns</p>\n",
       "</div>"
      ],
      "text/plain": [
       "              gene1            gene2  similarity_protein        gene_id_x  \\\n",
       "0   ENSG00000162998  ENSG00000162998               1.000  ENSG00000162998   \n",
       "1   ENSG00000162998  ENSG00000163251               0.382  ENSG00000162998   \n",
       "2   ENSG00000162998  ENSG00000155760               0.465  ENSG00000162998   \n",
       "3   ENSG00000162998  ENSG00000177283               0.492  ENSG00000162998   \n",
       "4   ENSG00000162998  ENSG00000180340               0.509  ENSG00000162998   \n",
       "..              ...              ...                 ...              ...   \n",
       "63  ENSG00000162998  ENSG00000145423               0.273  ENSG00000162998   \n",
       "64  ENSG00000162998  ENSG00000104332               0.257  ENSG00000162998   \n",
       "65  ENSG00000162998  ENSG00000164930               0.330  ENSG00000162998   \n",
       "66  ENSG00000162998  ENSG00000074527               0.341  ENSG00000162998   \n",
       "67  ENSG00000162998  ENSG00000235718               0.310  ENSG00000162998   \n",
       "\n",
       "    pme_TPM_x      complete_name        gene_id_y  pme_TPM_y  hits  \n",
       "0        0.10  liver_ENCFF658MFL  ENSG00000162998       0.10    68  \n",
       "1        0.10  liver_ENCFF658MFL  ENSG00000163251      13.09    68  \n",
       "2        0.10  liver_ENCFF658MFL  ENSG00000155760       0.22    68  \n",
       "3        0.10  liver_ENCFF658MFL  ENSG00000177283       2.03    68  \n",
       "4        0.10  liver_ENCFF658MFL  ENSG00000180340       0.07    68  \n",
       "..        ...                ...              ...        ...   ...  \n",
       "63       2.16  heart_ENCFF789UOH  ENSG00000145423       1.23    68  \n",
       "64       2.16  heart_ENCFF789UOH  ENSG00000104332      39.29    68  \n",
       "65       2.16  heart_ENCFF789UOH  ENSG00000164930       4.72    68  \n",
       "66       2.16  heart_ENCFF789UOH  ENSG00000074527      31.60    68  \n",
       "67       2.16  heart_ENCFF789UOH  ENSG00000235718       0.33    68  \n",
       "\n",
       "[68 rows x 9 columns]"
      ]
     },
     "execution_count": 3,
     "metadata": {},
     "output_type": "execute_result"
    }
   ],
   "source": [
    "df_complete"
   ]
  },
  {
   "cell_type": "code",
   "execution_count": 201,
   "metadata": {},
   "outputs": [
    {
     "data": {
      "text/html": [
       "<div>\n",
       "<style scoped>\n",
       "    .dataframe tbody tr th:only-of-type {\n",
       "        vertical-align: middle;\n",
       "    }\n",
       "\n",
       "    .dataframe tbody tr th {\n",
       "        vertical-align: top;\n",
       "    }\n",
       "\n",
       "    .dataframe thead th {\n",
       "        text-align: right;\n",
       "    }\n",
       "</style>\n",
       "<table border=\"1\" class=\"dataframe\">\n",
       "  <thead>\n",
       "    <tr style=\"text-align: right;\">\n",
       "      <th></th>\n",
       "      <th>gene1</th>\n",
       "      <th>promoter_similarity_mmseqs</th>\n",
       "      <th>promoter_length</th>\n",
       "      <th>pme_TPM_x</th>\n",
       "      <th>pme_TPM_y</th>\n",
       "      <th>hits</th>\n",
       "    </tr>\n",
       "  </thead>\n",
       "  <tbody>\n",
       "    <tr>\n",
       "      <th>5679</th>\n",
       "      <td>ENSG00000257017.8</td>\n",
       "      <td>0.905000</td>\n",
       "      <td>500.0</td>\n",
       "      <td>21211.68</td>\n",
       "      <td>51.640000</td>\n",
       "      <td>8.0</td>\n",
       "    </tr>\n",
       "    <tr>\n",
       "      <th>3756</th>\n",
       "      <td>ENSG00000173432.11</td>\n",
       "      <td>0.780720</td>\n",
       "      <td>500.0</td>\n",
       "      <td>14675.93</td>\n",
       "      <td>25.697634</td>\n",
       "      <td>376.0</td>\n",
       "    </tr>\n",
       "    <tr>\n",
       "      <th>1914</th>\n",
       "      <td>ENSG00000134339.8</td>\n",
       "      <td>0.812750</td>\n",
       "      <td>500.0</td>\n",
       "      <td>11760.70</td>\n",
       "      <td>11.015000</td>\n",
       "      <td>36.0</td>\n",
       "    </tr>\n",
       "    <tr>\n",
       "      <th>5353</th>\n",
       "      <td>ENSG00000229314.5</td>\n",
       "      <td>0.989000</td>\n",
       "      <td>500.0</td>\n",
       "      <td>10302.46</td>\n",
       "      <td>2140.270000</td>\n",
       "      <td>8.0</td>\n",
       "    </tr>\n",
       "    <tr>\n",
       "      <th>4754</th>\n",
       "      <td>ENSG00000197249.13</td>\n",
       "      <td>0.944500</td>\n",
       "      <td>500.0</td>\n",
       "      <td>8214.81</td>\n",
       "      <td>14.025000</td>\n",
       "      <td>12.0</td>\n",
       "    </tr>\n",
       "    <tr>\n",
       "      <th>1566</th>\n",
       "      <td>ENSG00000125730.16</td>\n",
       "      <td>0.826120</td>\n",
       "      <td>500.0</td>\n",
       "      <td>4675.87</td>\n",
       "      <td>19.328768</td>\n",
       "      <td>11044.0</td>\n",
       "    </tr>\n",
       "    <tr>\n",
       "      <th>4636</th>\n",
       "      <td>ENSG00000196136.17</td>\n",
       "      <td>0.831016</td>\n",
       "      <td>500.0</td>\n",
       "      <td>3722.70</td>\n",
       "      <td>19.715563</td>\n",
       "      <td>7352.0</td>\n",
       "    </tr>\n",
       "    <tr>\n",
       "      <th>1714</th>\n",
       "      <td>ENSG00000130208.9</td>\n",
       "      <td>0.837000</td>\n",
       "      <td>500.0</td>\n",
       "      <td>2738.26</td>\n",
       "      <td>1.365000</td>\n",
       "      <td>12.0</td>\n",
       "    </tr>\n",
       "    <tr>\n",
       "      <th>1395</th>\n",
       "      <td>ENSG00000120885.21</td>\n",
       "      <td>0.828225</td>\n",
       "      <td>500.0</td>\n",
       "      <td>2451.97</td>\n",
       "      <td>20.700653</td>\n",
       "      <td>13056.0</td>\n",
       "    </tr>\n",
       "    <tr>\n",
       "      <th>5343</th>\n",
       "      <td>ENSG00000228278.3</td>\n",
       "      <td>0.989000</td>\n",
       "      <td>500.0</td>\n",
       "      <td>2140.27</td>\n",
       "      <td>10302.460000</td>\n",
       "      <td>8.0</td>\n",
       "    </tr>\n",
       "  </tbody>\n",
       "</table>\n",
       "</div>"
      ],
      "text/plain": [
       "                   gene1  promoter_similarity_mmseqs  promoter_length  \\\n",
       "5679   ENSG00000257017.8                    0.905000            500.0   \n",
       "3756  ENSG00000173432.11                    0.780720            500.0   \n",
       "1914   ENSG00000134339.8                    0.812750            500.0   \n",
       "5353   ENSG00000229314.5                    0.989000            500.0   \n",
       "4754  ENSG00000197249.13                    0.944500            500.0   \n",
       "1566  ENSG00000125730.16                    0.826120            500.0   \n",
       "4636  ENSG00000196136.17                    0.831016            500.0   \n",
       "1714   ENSG00000130208.9                    0.837000            500.0   \n",
       "1395  ENSG00000120885.21                    0.828225            500.0   \n",
       "5343   ENSG00000228278.3                    0.989000            500.0   \n",
       "\n",
       "      pme_TPM_x     pme_TPM_y     hits  \n",
       "5679   21211.68     51.640000      8.0  \n",
       "3756   14675.93     25.697634    376.0  \n",
       "1914   11760.70     11.015000     36.0  \n",
       "5353   10302.46   2140.270000      8.0  \n",
       "4754    8214.81     14.025000     12.0  \n",
       "1566    4675.87     19.328768  11044.0  \n",
       "4636    3722.70     19.715563   7352.0  \n",
       "1714    2738.26      1.365000     12.0  \n",
       "1395    2451.97     20.700653  13056.0  \n",
       "5343    2140.27  10302.460000      8.0  "
      ]
     },
     "execution_count": 201,
     "metadata": {},
     "output_type": "execute_result"
    }
   ],
   "source": [
    "# select a gene that is very lowly expressed in one sample\n",
    "df_gene_filter = df_complete[df_complete[\"complete_name\"] == \"liver_ENCFF658MFL\"]\n",
    "# group by gene1 and extract the mean expression value of pme_TMP1\n",
    "df_gene_filter = df_gene_filter.groupby(\"gene1\").mean(\"pme_TPM_x\").reset_index()\n",
    "df_gene_filter.sort_values(\"pme_TPM_x\", ascending=False).head(10)"
   ]
  },
  {
   "cell_type": "code",
   "execution_count": 202,
   "metadata": {},
   "outputs": [
    {
     "data": {
      "text/plain": [
       "0       True\n",
       "1       True\n",
       "2       True\n",
       "3       True\n",
       "4       True\n",
       "        ... \n",
       "6192    True\n",
       "6193    True\n",
       "6194    True\n",
       "6195    True\n",
       "6196    True\n",
       "Name: promoter_similarity_mmseqs, Length: 6197, dtype: bool"
      ]
     },
     "execution_count": 202,
     "metadata": {},
     "output_type": "execute_result"
    }
   ],
   "source": [
    "# extract the number of similar genes (>= 0.9) for each gene\n",
    "# Add column called highly similar and set it to 1 if the similarity is >= 0.9\n",
    "# group by gene1 and count the number of highly similar genes"
   ]
  },
  {
   "cell_type": "code",
   "execution_count": 200,
   "metadata": {},
   "outputs": [
    {
     "data": {
      "text/html": [
       "<div>\n",
       "<style scoped>\n",
       "    .dataframe tbody tr th:only-of-type {\n",
       "        vertical-align: middle;\n",
       "    }\n",
       "\n",
       "    .dataframe tbody tr th {\n",
       "        vertical-align: top;\n",
       "    }\n",
       "\n",
       "    .dataframe thead th {\n",
       "        text-align: right;\n",
       "    }\n",
       "</style>\n",
       "<table border=\"1\" class=\"dataframe\">\n",
       "  <thead>\n",
       "    <tr style=\"text-align: right;\">\n",
       "      <th></th>\n",
       "      <th>gene1</th>\n",
       "      <th>promoter_similarity_mmseqs</th>\n",
       "      <th>promoter_length</th>\n",
       "      <th>pme_TPM_x</th>\n",
       "      <th>pme_TPM_y</th>\n",
       "      <th>hits</th>\n",
       "      <th>highly_similar</th>\n",
       "    </tr>\n",
       "  </thead>\n",
       "  <tbody>\n",
       "    <tr>\n",
       "      <th>0</th>\n",
       "      <td>ENSG00000000003.14</td>\n",
       "      <td>0.830094</td>\n",
       "      <td>500.0</td>\n",
       "      <td>16.10</td>\n",
       "      <td>21.425189</td>\n",
       "      <td>12892.0</td>\n",
       "      <td>True</td>\n",
       "    </tr>\n",
       "    <tr>\n",
       "      <th>1</th>\n",
       "      <td>ENSG00000000460.16</td>\n",
       "      <td>0.841929</td>\n",
       "      <td>500.0</td>\n",
       "      <td>0.88</td>\n",
       "      <td>8.415714</td>\n",
       "      <td>60.0</td>\n",
       "      <td>True</td>\n",
       "    </tr>\n",
       "    <tr>\n",
       "      <th>2</th>\n",
       "      <td>ENSG00000001036.13</td>\n",
       "      <td>0.759000</td>\n",
       "      <td>500.0</td>\n",
       "      <td>12.78</td>\n",
       "      <td>1.043333</td>\n",
       "      <td>16.0</td>\n",
       "      <td>True</td>\n",
       "    </tr>\n",
       "    <tr>\n",
       "      <th>3</th>\n",
       "      <td>ENSG00000001460.17</td>\n",
       "      <td>0.902288</td>\n",
       "      <td>500.0</td>\n",
       "      <td>1.15</td>\n",
       "      <td>20.383983</td>\n",
       "      <td>5628.0</td>\n",
       "      <td>True</td>\n",
       "    </tr>\n",
       "    <tr>\n",
       "      <th>4</th>\n",
       "      <td>ENSG00000001626.15</td>\n",
       "      <td>0.789473</td>\n",
       "      <td>500.0</td>\n",
       "      <td>1.66</td>\n",
       "      <td>40.740220</td>\n",
       "      <td>368.0</td>\n",
       "      <td>True</td>\n",
       "    </tr>\n",
       "    <tr>\n",
       "      <th>...</th>\n",
       "      <td>...</td>\n",
       "      <td>...</td>\n",
       "      <td>...</td>\n",
       "      <td>...</td>\n",
       "      <td>...</td>\n",
       "      <td>...</td>\n",
       "      <td>...</td>\n",
       "    </tr>\n",
       "    <tr>\n",
       "      <th>6192</th>\n",
       "      <td>ENSG00000285950.1</td>\n",
       "      <td>0.994286</td>\n",
       "      <td>500.0</td>\n",
       "      <td>0.02</td>\n",
       "      <td>0.020000</td>\n",
       "      <td>32.0</td>\n",
       "      <td>True</td>\n",
       "    </tr>\n",
       "    <tr>\n",
       "      <th>6193</th>\n",
       "      <td>ENSG00000285975.1</td>\n",
       "      <td>0.994000</td>\n",
       "      <td>500.0</td>\n",
       "      <td>0.02</td>\n",
       "      <td>0.020000</td>\n",
       "      <td>12.0</td>\n",
       "      <td>True</td>\n",
       "    </tr>\n",
       "    <tr>\n",
       "      <th>6194</th>\n",
       "      <td>ENSG00000285978.1</td>\n",
       "      <td>0.828321</td>\n",
       "      <td>500.0</td>\n",
       "      <td>0.02</td>\n",
       "      <td>22.607217</td>\n",
       "      <td>9232.0</td>\n",
       "      <td>True</td>\n",
       "    </tr>\n",
       "    <tr>\n",
       "      <th>6195</th>\n",
       "      <td>ENSG00000285982.1</td>\n",
       "      <td>1.000000</td>\n",
       "      <td>500.0</td>\n",
       "      <td>0.06</td>\n",
       "      <td>3.670000</td>\n",
       "      <td>8.0</td>\n",
       "      <td>True</td>\n",
       "    </tr>\n",
       "    <tr>\n",
       "      <th>6196</th>\n",
       "      <td>ENSG00000285991.1</td>\n",
       "      <td>0.852524</td>\n",
       "      <td>500.0</td>\n",
       "      <td>0.05</td>\n",
       "      <td>19.915913</td>\n",
       "      <td>7736.0</td>\n",
       "      <td>True</td>\n",
       "    </tr>\n",
       "  </tbody>\n",
       "</table>\n",
       "<p>6197 rows × 7 columns</p>\n",
       "</div>"
      ],
      "text/plain": [
       "                   gene1  promoter_similarity_mmseqs  promoter_length  \\\n",
       "0     ENSG00000000003.14                    0.830094            500.0   \n",
       "1     ENSG00000000460.16                    0.841929            500.0   \n",
       "2     ENSG00000001036.13                    0.759000            500.0   \n",
       "3     ENSG00000001460.17                    0.902288            500.0   \n",
       "4     ENSG00000001626.15                    0.789473            500.0   \n",
       "...                  ...                         ...              ...   \n",
       "6192   ENSG00000285950.1                    0.994286            500.0   \n",
       "6193   ENSG00000285975.1                    0.994000            500.0   \n",
       "6194   ENSG00000285978.1                    0.828321            500.0   \n",
       "6195   ENSG00000285982.1                    1.000000            500.0   \n",
       "6196   ENSG00000285991.1                    0.852524            500.0   \n",
       "\n",
       "      pme_TPM_x  pme_TPM_y     hits  highly_similar  \n",
       "0         16.10  21.425189  12892.0            True  \n",
       "1          0.88   8.415714     60.0            True  \n",
       "2         12.78   1.043333     16.0            True  \n",
       "3          1.15  20.383983   5628.0            True  \n",
       "4          1.66  40.740220    368.0            True  \n",
       "...         ...        ...      ...             ...  \n",
       "6192       0.02   0.020000     32.0            True  \n",
       "6193       0.02   0.020000     12.0            True  \n",
       "6194       0.02  22.607217   9232.0            True  \n",
       "6195       0.06   3.670000      8.0            True  \n",
       "6196       0.05  19.915913   7736.0            True  \n",
       "\n",
       "[6197 rows x 7 columns]"
      ]
     },
     "execution_count": 200,
     "metadata": {},
     "output_type": "execute_result"
    }
   ],
   "source": [
    "df_gene_filter"
   ]
  },
  {
   "cell_type": "code",
   "execution_count": 198,
   "metadata": {},
   "outputs": [
    {
     "data": {
      "text/plain": [
       "1"
      ]
     },
     "execution_count": 198,
     "metadata": {},
     "output_type": "execute_result"
    }
   ],
   "source": [
    "# what is the max of highly similar genes\n",
    "df_gene_filter.groupby(\"gene1\")[\"highly_similar\"].sum().max()"
   ]
  },
  {
   "cell_type": "code",
   "execution_count": 179,
   "metadata": {},
   "outputs": [
    {
     "data": {
      "text/html": [
       "<div>\n",
       "<style scoped>\n",
       "    .dataframe tbody tr th:only-of-type {\n",
       "        vertical-align: middle;\n",
       "    }\n",
       "\n",
       "    .dataframe tbody tr th {\n",
       "        vertical-align: top;\n",
       "    }\n",
       "\n",
       "    .dataframe thead th {\n",
       "        text-align: right;\n",
       "    }\n",
       "</style>\n",
       "<table border=\"1\" class=\"dataframe\">\n",
       "  <thead>\n",
       "    <tr style=\"text-align: right;\">\n",
       "      <th></th>\n",
       "      <th>gene1</th>\n",
       "      <th>promoter_similarity_mmseqs</th>\n",
       "      <th>promoter_length</th>\n",
       "      <th>pme_TPM_x</th>\n",
       "      <th>pme_TPM_y</th>\n",
       "      <th>hits</th>\n",
       "    </tr>\n",
       "  </thead>\n",
       "  <tbody>\n",
       "    <tr>\n",
       "      <th>5741</th>\n",
       "      <td>ENSG00000261272.1</td>\n",
       "      <td>0.862000</td>\n",
       "      <td>500.0</td>\n",
       "      <td>0.00</td>\n",
       "      <td>0.070000</td>\n",
       "      <td>8.0</td>\n",
       "    </tr>\n",
       "    <tr>\n",
       "      <th>152</th>\n",
       "      <td>ENSG00000047662.4</td>\n",
       "      <td>0.822157</td>\n",
       "      <td>500.0</td>\n",
       "      <td>0.00</td>\n",
       "      <td>21.875729</td>\n",
       "      <td>10672.0</td>\n",
       "    </tr>\n",
       "    <tr>\n",
       "      <th>3450</th>\n",
       "      <td>ENSG00000168939.11_PAR_Y</td>\n",
       "      <td>1.000000</td>\n",
       "      <td>500.0</td>\n",
       "      <td>0.00</td>\n",
       "      <td>0.320000</td>\n",
       "      <td>8.0</td>\n",
       "    </tr>\n",
       "    <tr>\n",
       "      <th>2822</th>\n",
       "      <td>ENSG00000159239.13</td>\n",
       "      <td>0.791000</td>\n",
       "      <td>500.0</td>\n",
       "      <td>0.00</td>\n",
       "      <td>4.501667</td>\n",
       "      <td>28.0</td>\n",
       "    </tr>\n",
       "    <tr>\n",
       "      <th>5226</th>\n",
       "      <td>ENSG00000214814.7</td>\n",
       "      <td>0.800000</td>\n",
       "      <td>500.0</td>\n",
       "      <td>0.00</td>\n",
       "      <td>0.130000</td>\n",
       "      <td>8.0</td>\n",
       "    </tr>\n",
       "    <tr>\n",
       "      <th>...</th>\n",
       "      <td>...</td>\n",
       "      <td>...</td>\n",
       "      <td>...</td>\n",
       "      <td>...</td>\n",
       "      <td>...</td>\n",
       "      <td>...</td>\n",
       "    </tr>\n",
       "    <tr>\n",
       "      <th>4896</th>\n",
       "      <td>ENSG00000198681.6</td>\n",
       "      <td>0.879000</td>\n",
       "      <td>500.0</td>\n",
       "      <td>0.02</td>\n",
       "      <td>0.080000</td>\n",
       "      <td>16.0</td>\n",
       "    </tr>\n",
       "    <tr>\n",
       "      <th>5684</th>\n",
       "      <td>ENSG00000257207.5</td>\n",
       "      <td>0.759091</td>\n",
       "      <td>500.0</td>\n",
       "      <td>0.02</td>\n",
       "      <td>5.219394</td>\n",
       "      <td>136.0</td>\n",
       "    </tr>\n",
       "    <tr>\n",
       "      <th>5593</th>\n",
       "      <td>ENSG00000250374.4</td>\n",
       "      <td>0.818680</td>\n",
       "      <td>500.0</td>\n",
       "      <td>0.02</td>\n",
       "      <td>21.635120</td>\n",
       "      <td>8184.0</td>\n",
       "    </tr>\n",
       "    <tr>\n",
       "      <th>5523</th>\n",
       "      <td>ENSG00000243489.4</td>\n",
       "      <td>0.816165</td>\n",
       "      <td>500.0</td>\n",
       "      <td>0.02</td>\n",
       "      <td>21.604187</td>\n",
       "      <td>11640.0</td>\n",
       "    </tr>\n",
       "    <tr>\n",
       "      <th>5503</th>\n",
       "      <td>ENSG00000242362.2</td>\n",
       "      <td>0.808349</td>\n",
       "      <td>500.0</td>\n",
       "      <td>0.02</td>\n",
       "      <td>22.568379</td>\n",
       "      <td>8392.0</td>\n",
       "    </tr>\n",
       "  </tbody>\n",
       "</table>\n",
       "<p>200 rows × 6 columns</p>\n",
       "</div>"
      ],
      "text/plain": [
       "                         gene1  promoter_similarity_mmseqs  promoter_length  \\\n",
       "5741         ENSG00000261272.1                    0.862000            500.0   \n",
       "152          ENSG00000047662.4                    0.822157            500.0   \n",
       "3450  ENSG00000168939.11_PAR_Y                    1.000000            500.0   \n",
       "2822        ENSG00000159239.13                    0.791000            500.0   \n",
       "5226         ENSG00000214814.7                    0.800000            500.0   \n",
       "...                        ...                         ...              ...   \n",
       "4896         ENSG00000198681.6                    0.879000            500.0   \n",
       "5684         ENSG00000257207.5                    0.759091            500.0   \n",
       "5593         ENSG00000250374.4                    0.818680            500.0   \n",
       "5523         ENSG00000243489.4                    0.816165            500.0   \n",
       "5503         ENSG00000242362.2                    0.808349            500.0   \n",
       "\n",
       "      pme_TPM_x  pme_TPM_y     hits  \n",
       "5741       0.00   0.070000      8.0  \n",
       "152        0.00  21.875729  10672.0  \n",
       "3450       0.00   0.320000      8.0  \n",
       "2822       0.00   4.501667     28.0  \n",
       "5226       0.00   0.130000      8.0  \n",
       "...         ...        ...      ...  \n",
       "4896       0.02   0.080000     16.0  \n",
       "5684       0.02   5.219394    136.0  \n",
       "5593       0.02  21.635120   8184.0  \n",
       "5523       0.02  21.604187  11640.0  \n",
       "5503       0.02  22.568379   8392.0  \n",
       "\n",
       "[200 rows x 6 columns]"
      ]
     },
     "execution_count": 179,
     "metadata": {},
     "output_type": "execute_result"
    }
   ],
   "source": [
    "df_gene_filter.sort_values(\"pme_TPM_x\", ascending=True).head(200)"
   ]
  },
  {
   "cell_type": "code",
   "execution_count": 206,
   "metadata": {},
   "outputs": [
    {
     "data": {
      "text/html": [
       "<div>\n",
       "<style scoped>\n",
       "    .dataframe tbody tr th:only-of-type {\n",
       "        vertical-align: middle;\n",
       "    }\n",
       "\n",
       "    .dataframe tbody tr th {\n",
       "        vertical-align: top;\n",
       "    }\n",
       "\n",
       "    .dataframe thead th {\n",
       "        text-align: right;\n",
       "    }\n",
       "</style>\n",
       "<table border=\"1\" class=\"dataframe\">\n",
       "  <thead>\n",
       "    <tr style=\"text-align: right;\">\n",
       "      <th></th>\n",
       "      <th>gene1</th>\n",
       "      <th>gene2</th>\n",
       "      <th>promoter_similarity_mmseqs</th>\n",
       "      <th>promoter_length</th>\n",
       "      <th>pme_TPM_x</th>\n",
       "      <th>complete_name</th>\n",
       "      <th>pme_TPM_y</th>\n",
       "      <th>hits</th>\n",
       "    </tr>\n",
       "  </thead>\n",
       "  <tbody>\n",
       "    <tr>\n",
       "      <th>7604019</th>\n",
       "      <td>ENSG00000000460.16</td>\n",
       "      <td>ENSG00000237693.4</td>\n",
       "      <td>0.901</td>\n",
       "      <td>500</td>\n",
       "      <td>0.88</td>\n",
       "      <td>liver_ENCFF658MFL</td>\n",
       "      <td>0.13</td>\n",
       "      <td>60</td>\n",
       "    </tr>\n",
       "    <tr>\n",
       "      <th>7604036</th>\n",
       "      <td>ENSG00000000460.16</td>\n",
       "      <td>ENSG00000079459.12</td>\n",
       "      <td>0.885</td>\n",
       "      <td>500</td>\n",
       "      <td>0.88</td>\n",
       "      <td>liver_ENCFF658MFL</td>\n",
       "      <td>21.23</td>\n",
       "      <td>60</td>\n",
       "    </tr>\n",
       "    <tr>\n",
       "      <th>7604050</th>\n",
       "      <td>ENSG00000000460.16</td>\n",
       "      <td>ENSG00000172349.17</td>\n",
       "      <td>0.923</td>\n",
       "      <td>500</td>\n",
       "      <td>0.88</td>\n",
       "      <td>liver_ENCFF658MFL</td>\n",
       "      <td>1.33</td>\n",
       "      <td>60</td>\n",
       "    </tr>\n",
       "    <tr>\n",
       "      <th>7604066</th>\n",
       "      <td>ENSG00000000460.16</td>\n",
       "      <td>ENSG00000105793.15</td>\n",
       "      <td>0.864</td>\n",
       "      <td>500</td>\n",
       "      <td>0.88</td>\n",
       "      <td>liver_ENCFF658MFL</td>\n",
       "      <td>7.56</td>\n",
       "      <td>60</td>\n",
       "    </tr>\n",
       "    <tr>\n",
       "      <th>7604081</th>\n",
       "      <td>ENSG00000000460.16</td>\n",
       "      <td>ENSG00000127955.16</td>\n",
       "      <td>0.826</td>\n",
       "      <td>500</td>\n",
       "      <td>0.88</td>\n",
       "      <td>liver_ENCFF658MFL</td>\n",
       "      <td>8.64</td>\n",
       "      <td>60</td>\n",
       "    </tr>\n",
       "    <tr>\n",
       "      <th>7604116</th>\n",
       "      <td>ENSG00000000460.16</td>\n",
       "      <td>ENSG00000177425.10</td>\n",
       "      <td>0.771</td>\n",
       "      <td>500</td>\n",
       "      <td>0.88</td>\n",
       "      <td>liver_ENCFF658MFL</td>\n",
       "      <td>11.66</td>\n",
       "      <td>60</td>\n",
       "    </tr>\n",
       "    <tr>\n",
       "      <th>7604132</th>\n",
       "      <td>ENSG00000000460.16</td>\n",
       "      <td>ENSG00000175344.17</td>\n",
       "      <td>0.831</td>\n",
       "      <td>500</td>\n",
       "      <td>0.88</td>\n",
       "      <td>liver_ENCFF658MFL</td>\n",
       "      <td>1.07</td>\n",
       "      <td>60</td>\n",
       "    </tr>\n",
       "    <tr>\n",
       "      <th>7604151</th>\n",
       "      <td>ENSG00000000460.16</td>\n",
       "      <td>ENSG00000261857.6</td>\n",
       "      <td>0.841</td>\n",
       "      <td>500</td>\n",
       "      <td>0.88</td>\n",
       "      <td>liver_ENCFF658MFL</td>\n",
       "      <td>0.88</td>\n",
       "      <td>60</td>\n",
       "    </tr>\n",
       "    <tr>\n",
       "      <th>7604169</th>\n",
       "      <td>ENSG00000000460.16</td>\n",
       "      <td>ENSG00000268975.2</td>\n",
       "      <td>0.841</td>\n",
       "      <td>500</td>\n",
       "      <td>0.88</td>\n",
       "      <td>liver_ENCFF658MFL</td>\n",
       "      <td>0.07</td>\n",
       "      <td>60</td>\n",
       "    </tr>\n",
       "    <tr>\n",
       "      <th>7604183</th>\n",
       "      <td>ENSG00000000460.16</td>\n",
       "      <td>ENSG00000111846.17</td>\n",
       "      <td>0.755</td>\n",
       "      <td>500</td>\n",
       "      <td>0.88</td>\n",
       "      <td>liver_ENCFF658MFL</td>\n",
       "      <td>5.51</td>\n",
       "      <td>60</td>\n",
       "    </tr>\n",
       "    <tr>\n",
       "      <th>7604241</th>\n",
       "      <td>ENSG00000000460.16</td>\n",
       "      <td>ENSG00000119673.14</td>\n",
       "      <td>0.868</td>\n",
       "      <td>500</td>\n",
       "      <td>0.88</td>\n",
       "      <td>liver_ENCFF658MFL</td>\n",
       "      <td>54.41</td>\n",
       "      <td>60</td>\n",
       "    </tr>\n",
       "    <tr>\n",
       "      <th>7604269</th>\n",
       "      <td>ENSG00000000460.16</td>\n",
       "      <td>ENSG00000196150.13</td>\n",
       "      <td>0.763</td>\n",
       "      <td>500</td>\n",
       "      <td>0.88</td>\n",
       "      <td>liver_ENCFF658MFL</td>\n",
       "      <td>2.54</td>\n",
       "      <td>60</td>\n",
       "    </tr>\n",
       "    <tr>\n",
       "      <th>7604304</th>\n",
       "      <td>ENSG00000000460.16</td>\n",
       "      <td>ENSG00000156265.15</td>\n",
       "      <td>0.937</td>\n",
       "      <td>500</td>\n",
       "      <td>0.88</td>\n",
       "      <td>liver_ENCFF658MFL</td>\n",
       "      <td>2.02</td>\n",
       "      <td>60</td>\n",
       "    </tr>\n",
       "    <tr>\n",
       "      <th>7611637</th>\n",
       "      <td>ENSG00000000460.16</td>\n",
       "      <td>ENSG00000134539.16</td>\n",
       "      <td>0.781</td>\n",
       "      <td>500</td>\n",
       "      <td>0.88</td>\n",
       "      <td>liver_ENCFF658MFL</td>\n",
       "      <td>0.77</td>\n",
       "      <td>60</td>\n",
       "    </tr>\n",
       "    <tr>\n",
       "      <th>15231473</th>\n",
       "      <td>ENSG00000000460.16</td>\n",
       "      <td>ENSG00000237693.4</td>\n",
       "      <td>0.901</td>\n",
       "      <td>500</td>\n",
       "      <td>0.64</td>\n",
       "      <td>liver_ENCFF296APA</td>\n",
       "      <td>0.10</td>\n",
       "      <td>60</td>\n",
       "    </tr>\n",
       "    <tr>\n",
       "      <th>15231490</th>\n",
       "      <td>ENSG00000000460.16</td>\n",
       "      <td>ENSG00000079459.12</td>\n",
       "      <td>0.885</td>\n",
       "      <td>500</td>\n",
       "      <td>0.64</td>\n",
       "      <td>liver_ENCFF296APA</td>\n",
       "      <td>20.13</td>\n",
       "      <td>60</td>\n",
       "    </tr>\n",
       "    <tr>\n",
       "      <th>15231504</th>\n",
       "      <td>ENSG00000000460.16</td>\n",
       "      <td>ENSG00000172349.17</td>\n",
       "      <td>0.923</td>\n",
       "      <td>500</td>\n",
       "      <td>0.64</td>\n",
       "      <td>liver_ENCFF296APA</td>\n",
       "      <td>1.15</td>\n",
       "      <td>60</td>\n",
       "    </tr>\n",
       "    <tr>\n",
       "      <th>15231520</th>\n",
       "      <td>ENSG00000000460.16</td>\n",
       "      <td>ENSG00000105793.15</td>\n",
       "      <td>0.864</td>\n",
       "      <td>500</td>\n",
       "      <td>0.64</td>\n",
       "      <td>liver_ENCFF296APA</td>\n",
       "      <td>6.79</td>\n",
       "      <td>60</td>\n",
       "    </tr>\n",
       "    <tr>\n",
       "      <th>15231535</th>\n",
       "      <td>ENSG00000000460.16</td>\n",
       "      <td>ENSG00000127955.16</td>\n",
       "      <td>0.826</td>\n",
       "      <td>500</td>\n",
       "      <td>0.64</td>\n",
       "      <td>liver_ENCFF296APA</td>\n",
       "      <td>6.85</td>\n",
       "      <td>60</td>\n",
       "    </tr>\n",
       "    <tr>\n",
       "      <th>15231570</th>\n",
       "      <td>ENSG00000000460.16</td>\n",
       "      <td>ENSG00000177425.10</td>\n",
       "      <td>0.771</td>\n",
       "      <td>500</td>\n",
       "      <td>0.64</td>\n",
       "      <td>liver_ENCFF296APA</td>\n",
       "      <td>13.38</td>\n",
       "      <td>60</td>\n",
       "    </tr>\n",
       "    <tr>\n",
       "      <th>15231586</th>\n",
       "      <td>ENSG00000000460.16</td>\n",
       "      <td>ENSG00000175344.17</td>\n",
       "      <td>0.831</td>\n",
       "      <td>500</td>\n",
       "      <td>0.64</td>\n",
       "      <td>liver_ENCFF296APA</td>\n",
       "      <td>0.81</td>\n",
       "      <td>60</td>\n",
       "    </tr>\n",
       "    <tr>\n",
       "      <th>15231605</th>\n",
       "      <td>ENSG00000000460.16</td>\n",
       "      <td>ENSG00000261857.6</td>\n",
       "      <td>0.841</td>\n",
       "      <td>500</td>\n",
       "      <td>0.64</td>\n",
       "      <td>liver_ENCFF296APA</td>\n",
       "      <td>0.66</td>\n",
       "      <td>60</td>\n",
       "    </tr>\n",
       "    <tr>\n",
       "      <th>15231623</th>\n",
       "      <td>ENSG00000000460.16</td>\n",
       "      <td>ENSG00000268975.2</td>\n",
       "      <td>0.841</td>\n",
       "      <td>500</td>\n",
       "      <td>0.64</td>\n",
       "      <td>liver_ENCFF296APA</td>\n",
       "      <td>0.06</td>\n",
       "      <td>60</td>\n",
       "    </tr>\n",
       "    <tr>\n",
       "      <th>15231637</th>\n",
       "      <td>ENSG00000000460.16</td>\n",
       "      <td>ENSG00000111846.17</td>\n",
       "      <td>0.755</td>\n",
       "      <td>500</td>\n",
       "      <td>0.64</td>\n",
       "      <td>liver_ENCFF296APA</td>\n",
       "      <td>4.53</td>\n",
       "      <td>60</td>\n",
       "    </tr>\n",
       "    <tr>\n",
       "      <th>15231695</th>\n",
       "      <td>ENSG00000000460.16</td>\n",
       "      <td>ENSG00000119673.14</td>\n",
       "      <td>0.868</td>\n",
       "      <td>500</td>\n",
       "      <td>0.64</td>\n",
       "      <td>liver_ENCFF296APA</td>\n",
       "      <td>54.83</td>\n",
       "      <td>60</td>\n",
       "    </tr>\n",
       "    <tr>\n",
       "      <th>15231723</th>\n",
       "      <td>ENSG00000000460.16</td>\n",
       "      <td>ENSG00000196150.13</td>\n",
       "      <td>0.763</td>\n",
       "      <td>500</td>\n",
       "      <td>0.64</td>\n",
       "      <td>liver_ENCFF296APA</td>\n",
       "      <td>2.12</td>\n",
       "      <td>60</td>\n",
       "    </tr>\n",
       "    <tr>\n",
       "      <th>15231758</th>\n",
       "      <td>ENSG00000000460.16</td>\n",
       "      <td>ENSG00000156265.15</td>\n",
       "      <td>0.937</td>\n",
       "      <td>500</td>\n",
       "      <td>0.64</td>\n",
       "      <td>liver_ENCFF296APA</td>\n",
       "      <td>1.94</td>\n",
       "      <td>60</td>\n",
       "    </tr>\n",
       "    <tr>\n",
       "      <th>15239091</th>\n",
       "      <td>ENSG00000000460.16</td>\n",
       "      <td>ENSG00000134539.16</td>\n",
       "      <td>0.781</td>\n",
       "      <td>500</td>\n",
       "      <td>0.64</td>\n",
       "      <td>liver_ENCFF296APA</td>\n",
       "      <td>0.55</td>\n",
       "      <td>60</td>\n",
       "    </tr>\n",
       "    <tr>\n",
       "      <th>22858927</th>\n",
       "      <td>ENSG00000000460.16</td>\n",
       "      <td>ENSG00000237693.4</td>\n",
       "      <td>0.901</td>\n",
       "      <td>500</td>\n",
       "      <td>1.22</td>\n",
       "      <td>heart_ENCFF417VDK</td>\n",
       "      <td>0.16</td>\n",
       "      <td>60</td>\n",
       "    </tr>\n",
       "    <tr>\n",
       "      <th>22858944</th>\n",
       "      <td>ENSG00000000460.16</td>\n",
       "      <td>ENSG00000079459.12</td>\n",
       "      <td>0.885</td>\n",
       "      <td>500</td>\n",
       "      <td>1.22</td>\n",
       "      <td>heart_ENCFF417VDK</td>\n",
       "      <td>32.92</td>\n",
       "      <td>60</td>\n",
       "    </tr>\n",
       "    <tr>\n",
       "      <th>22858958</th>\n",
       "      <td>ENSG00000000460.16</td>\n",
       "      <td>ENSG00000172349.17</td>\n",
       "      <td>0.923</td>\n",
       "      <td>500</td>\n",
       "      <td>1.22</td>\n",
       "      <td>heart_ENCFF417VDK</td>\n",
       "      <td>9.66</td>\n",
       "      <td>60</td>\n",
       "    </tr>\n",
       "    <tr>\n",
       "      <th>22858974</th>\n",
       "      <td>ENSG00000000460.16</td>\n",
       "      <td>ENSG00000105793.15</td>\n",
       "      <td>0.864</td>\n",
       "      <td>500</td>\n",
       "      <td>1.22</td>\n",
       "      <td>heart_ENCFF417VDK</td>\n",
       "      <td>12.64</td>\n",
       "      <td>60</td>\n",
       "    </tr>\n",
       "    <tr>\n",
       "      <th>22858989</th>\n",
       "      <td>ENSG00000000460.16</td>\n",
       "      <td>ENSG00000127955.16</td>\n",
       "      <td>0.826</td>\n",
       "      <td>500</td>\n",
       "      <td>1.22</td>\n",
       "      <td>heart_ENCFF417VDK</td>\n",
       "      <td>9.81</td>\n",
       "      <td>60</td>\n",
       "    </tr>\n",
       "    <tr>\n",
       "      <th>22859024</th>\n",
       "      <td>ENSG00000000460.16</td>\n",
       "      <td>ENSG00000177425.10</td>\n",
       "      <td>0.771</td>\n",
       "      <td>500</td>\n",
       "      <td>1.22</td>\n",
       "      <td>heart_ENCFF417VDK</td>\n",
       "      <td>11.76</td>\n",
       "      <td>60</td>\n",
       "    </tr>\n",
       "    <tr>\n",
       "      <th>22859040</th>\n",
       "      <td>ENSG00000000460.16</td>\n",
       "      <td>ENSG00000175344.17</td>\n",
       "      <td>0.831</td>\n",
       "      <td>500</td>\n",
       "      <td>1.22</td>\n",
       "      <td>heart_ENCFF417VDK</td>\n",
       "      <td>1.45</td>\n",
       "      <td>60</td>\n",
       "    </tr>\n",
       "    <tr>\n",
       "      <th>22859059</th>\n",
       "      <td>ENSG00000000460.16</td>\n",
       "      <td>ENSG00000261857.6</td>\n",
       "      <td>0.841</td>\n",
       "      <td>500</td>\n",
       "      <td>1.22</td>\n",
       "      <td>heart_ENCFF417VDK</td>\n",
       "      <td>1.06</td>\n",
       "      <td>60</td>\n",
       "    </tr>\n",
       "    <tr>\n",
       "      <th>22859077</th>\n",
       "      <td>ENSG00000000460.16</td>\n",
       "      <td>ENSG00000268975.2</td>\n",
       "      <td>0.841</td>\n",
       "      <td>500</td>\n",
       "      <td>1.22</td>\n",
       "      <td>heart_ENCFF417VDK</td>\n",
       "      <td>0.05</td>\n",
       "      <td>60</td>\n",
       "    </tr>\n",
       "    <tr>\n",
       "      <th>22859091</th>\n",
       "      <td>ENSG00000000460.16</td>\n",
       "      <td>ENSG00000111846.17</td>\n",
       "      <td>0.755</td>\n",
       "      <td>500</td>\n",
       "      <td>1.22</td>\n",
       "      <td>heart_ENCFF417VDK</td>\n",
       "      <td>22.74</td>\n",
       "      <td>60</td>\n",
       "    </tr>\n",
       "    <tr>\n",
       "      <th>22859149</th>\n",
       "      <td>ENSG00000000460.16</td>\n",
       "      <td>ENSG00000119673.14</td>\n",
       "      <td>0.868</td>\n",
       "      <td>500</td>\n",
       "      <td>1.22</td>\n",
       "      <td>heart_ENCFF417VDK</td>\n",
       "      <td>59.93</td>\n",
       "      <td>60</td>\n",
       "    </tr>\n",
       "    <tr>\n",
       "      <th>22859177</th>\n",
       "      <td>ENSG00000000460.16</td>\n",
       "      <td>ENSG00000196150.13</td>\n",
       "      <td>0.763</td>\n",
       "      <td>500</td>\n",
       "      <td>1.22</td>\n",
       "      <td>heart_ENCFF417VDK</td>\n",
       "      <td>5.01</td>\n",
       "      <td>60</td>\n",
       "    </tr>\n",
       "    <tr>\n",
       "      <th>22859212</th>\n",
       "      <td>ENSG00000000460.16</td>\n",
       "      <td>ENSG00000156265.15</td>\n",
       "      <td>0.937</td>\n",
       "      <td>500</td>\n",
       "      <td>1.22</td>\n",
       "      <td>heart_ENCFF417VDK</td>\n",
       "      <td>3.55</td>\n",
       "      <td>60</td>\n",
       "    </tr>\n",
       "    <tr>\n",
       "      <th>22866545</th>\n",
       "      <td>ENSG00000000460.16</td>\n",
       "      <td>ENSG00000134539.16</td>\n",
       "      <td>0.781</td>\n",
       "      <td>500</td>\n",
       "      <td>1.22</td>\n",
       "      <td>heart_ENCFF417VDK</td>\n",
       "      <td>1.81</td>\n",
       "      <td>60</td>\n",
       "    </tr>\n",
       "    <tr>\n",
       "      <th>30486381</th>\n",
       "      <td>ENSG00000000460.16</td>\n",
       "      <td>ENSG00000237693.4</td>\n",
       "      <td>0.901</td>\n",
       "      <td>500</td>\n",
       "      <td>0.92</td>\n",
       "      <td>heart_ENCFF789UOH</td>\n",
       "      <td>0.19</td>\n",
       "      <td>60</td>\n",
       "    </tr>\n",
       "    <tr>\n",
       "      <th>30486398</th>\n",
       "      <td>ENSG00000000460.16</td>\n",
       "      <td>ENSG00000079459.12</td>\n",
       "      <td>0.885</td>\n",
       "      <td>500</td>\n",
       "      <td>0.92</td>\n",
       "      <td>heart_ENCFF789UOH</td>\n",
       "      <td>35.32</td>\n",
       "      <td>60</td>\n",
       "    </tr>\n",
       "    <tr>\n",
       "      <th>30486412</th>\n",
       "      <td>ENSG00000000460.16</td>\n",
       "      <td>ENSG00000172349.17</td>\n",
       "      <td>0.923</td>\n",
       "      <td>500</td>\n",
       "      <td>0.92</td>\n",
       "      <td>heart_ENCFF789UOH</td>\n",
       "      <td>2.45</td>\n",
       "      <td>60</td>\n",
       "    </tr>\n",
       "    <tr>\n",
       "      <th>30486428</th>\n",
       "      <td>ENSG00000000460.16</td>\n",
       "      <td>ENSG00000105793.15</td>\n",
       "      <td>0.864</td>\n",
       "      <td>500</td>\n",
       "      <td>0.92</td>\n",
       "      <td>heart_ENCFF789UOH</td>\n",
       "      <td>11.18</td>\n",
       "      <td>60</td>\n",
       "    </tr>\n",
       "    <tr>\n",
       "      <th>30486443</th>\n",
       "      <td>ENSG00000000460.16</td>\n",
       "      <td>ENSG00000127955.16</td>\n",
       "      <td>0.826</td>\n",
       "      <td>500</td>\n",
       "      <td>0.92</td>\n",
       "      <td>heart_ENCFF789UOH</td>\n",
       "      <td>9.72</td>\n",
       "      <td>60</td>\n",
       "    </tr>\n",
       "    <tr>\n",
       "      <th>30486478</th>\n",
       "      <td>ENSG00000000460.16</td>\n",
       "      <td>ENSG00000177425.10</td>\n",
       "      <td>0.771</td>\n",
       "      <td>500</td>\n",
       "      <td>0.92</td>\n",
       "      <td>heart_ENCFF789UOH</td>\n",
       "      <td>12.00</td>\n",
       "      <td>60</td>\n",
       "    </tr>\n",
       "    <tr>\n",
       "      <th>30486494</th>\n",
       "      <td>ENSG00000000460.16</td>\n",
       "      <td>ENSG00000175344.17</td>\n",
       "      <td>0.831</td>\n",
       "      <td>500</td>\n",
       "      <td>0.92</td>\n",
       "      <td>heart_ENCFF789UOH</td>\n",
       "      <td>2.54</td>\n",
       "      <td>60</td>\n",
       "    </tr>\n",
       "    <tr>\n",
       "      <th>30486513</th>\n",
       "      <td>ENSG00000000460.16</td>\n",
       "      <td>ENSG00000261857.6</td>\n",
       "      <td>0.841</td>\n",
       "      <td>500</td>\n",
       "      <td>0.92</td>\n",
       "      <td>heart_ENCFF789UOH</td>\n",
       "      <td>0.79</td>\n",
       "      <td>60</td>\n",
       "    </tr>\n",
       "    <tr>\n",
       "      <th>30486531</th>\n",
       "      <td>ENSG00000000460.16</td>\n",
       "      <td>ENSG00000268975.2</td>\n",
       "      <td>0.841</td>\n",
       "      <td>500</td>\n",
       "      <td>0.92</td>\n",
       "      <td>heart_ENCFF789UOH</td>\n",
       "      <td>0.13</td>\n",
       "      <td>60</td>\n",
       "    </tr>\n",
       "    <tr>\n",
       "      <th>30486545</th>\n",
       "      <td>ENSG00000000460.16</td>\n",
       "      <td>ENSG00000111846.17</td>\n",
       "      <td>0.755</td>\n",
       "      <td>500</td>\n",
       "      <td>0.92</td>\n",
       "      <td>heart_ENCFF789UOH</td>\n",
       "      <td>30.81</td>\n",
       "      <td>60</td>\n",
       "    </tr>\n",
       "    <tr>\n",
       "      <th>30486603</th>\n",
       "      <td>ENSG00000000460.16</td>\n",
       "      <td>ENSG00000119673.14</td>\n",
       "      <td>0.868</td>\n",
       "      <td>500</td>\n",
       "      <td>0.92</td>\n",
       "      <td>heart_ENCFF789UOH</td>\n",
       "      <td>80.24</td>\n",
       "      <td>60</td>\n",
       "    </tr>\n",
       "    <tr>\n",
       "      <th>30486631</th>\n",
       "      <td>ENSG00000000460.16</td>\n",
       "      <td>ENSG00000196150.13</td>\n",
       "      <td>0.763</td>\n",
       "      <td>500</td>\n",
       "      <td>0.92</td>\n",
       "      <td>heart_ENCFF789UOH</td>\n",
       "      <td>5.85</td>\n",
       "      <td>60</td>\n",
       "    </tr>\n",
       "    <tr>\n",
       "      <th>30486666</th>\n",
       "      <td>ENSG00000000460.16</td>\n",
       "      <td>ENSG00000156265.15</td>\n",
       "      <td>0.937</td>\n",
       "      <td>500</td>\n",
       "      <td>0.92</td>\n",
       "      <td>heart_ENCFF789UOH</td>\n",
       "      <td>5.07</td>\n",
       "      <td>60</td>\n",
       "    </tr>\n",
       "    <tr>\n",
       "      <th>30493999</th>\n",
       "      <td>ENSG00000000460.16</td>\n",
       "      <td>ENSG00000134539.16</td>\n",
       "      <td>0.781</td>\n",
       "      <td>500</td>\n",
       "      <td>0.92</td>\n",
       "      <td>heart_ENCFF789UOH</td>\n",
       "      <td>1.06</td>\n",
       "      <td>60</td>\n",
       "    </tr>\n",
       "  </tbody>\n",
       "</table>\n",
       "</div>"
      ],
      "text/plain": [
       "                       gene1               gene2  promoter_similarity_mmseqs  \\\n",
       "7604019   ENSG00000000460.16   ENSG00000237693.4                       0.901   \n",
       "7604036   ENSG00000000460.16  ENSG00000079459.12                       0.885   \n",
       "7604050   ENSG00000000460.16  ENSG00000172349.17                       0.923   \n",
       "7604066   ENSG00000000460.16  ENSG00000105793.15                       0.864   \n",
       "7604081   ENSG00000000460.16  ENSG00000127955.16                       0.826   \n",
       "7604116   ENSG00000000460.16  ENSG00000177425.10                       0.771   \n",
       "7604132   ENSG00000000460.16  ENSG00000175344.17                       0.831   \n",
       "7604151   ENSG00000000460.16   ENSG00000261857.6                       0.841   \n",
       "7604169   ENSG00000000460.16   ENSG00000268975.2                       0.841   \n",
       "7604183   ENSG00000000460.16  ENSG00000111846.17                       0.755   \n",
       "7604241   ENSG00000000460.16  ENSG00000119673.14                       0.868   \n",
       "7604269   ENSG00000000460.16  ENSG00000196150.13                       0.763   \n",
       "7604304   ENSG00000000460.16  ENSG00000156265.15                       0.937   \n",
       "7611637   ENSG00000000460.16  ENSG00000134539.16                       0.781   \n",
       "15231473  ENSG00000000460.16   ENSG00000237693.4                       0.901   \n",
       "15231490  ENSG00000000460.16  ENSG00000079459.12                       0.885   \n",
       "15231504  ENSG00000000460.16  ENSG00000172349.17                       0.923   \n",
       "15231520  ENSG00000000460.16  ENSG00000105793.15                       0.864   \n",
       "15231535  ENSG00000000460.16  ENSG00000127955.16                       0.826   \n",
       "15231570  ENSG00000000460.16  ENSG00000177425.10                       0.771   \n",
       "15231586  ENSG00000000460.16  ENSG00000175344.17                       0.831   \n",
       "15231605  ENSG00000000460.16   ENSG00000261857.6                       0.841   \n",
       "15231623  ENSG00000000460.16   ENSG00000268975.2                       0.841   \n",
       "15231637  ENSG00000000460.16  ENSG00000111846.17                       0.755   \n",
       "15231695  ENSG00000000460.16  ENSG00000119673.14                       0.868   \n",
       "15231723  ENSG00000000460.16  ENSG00000196150.13                       0.763   \n",
       "15231758  ENSG00000000460.16  ENSG00000156265.15                       0.937   \n",
       "15239091  ENSG00000000460.16  ENSG00000134539.16                       0.781   \n",
       "22858927  ENSG00000000460.16   ENSG00000237693.4                       0.901   \n",
       "22858944  ENSG00000000460.16  ENSG00000079459.12                       0.885   \n",
       "22858958  ENSG00000000460.16  ENSG00000172349.17                       0.923   \n",
       "22858974  ENSG00000000460.16  ENSG00000105793.15                       0.864   \n",
       "22858989  ENSG00000000460.16  ENSG00000127955.16                       0.826   \n",
       "22859024  ENSG00000000460.16  ENSG00000177425.10                       0.771   \n",
       "22859040  ENSG00000000460.16  ENSG00000175344.17                       0.831   \n",
       "22859059  ENSG00000000460.16   ENSG00000261857.6                       0.841   \n",
       "22859077  ENSG00000000460.16   ENSG00000268975.2                       0.841   \n",
       "22859091  ENSG00000000460.16  ENSG00000111846.17                       0.755   \n",
       "22859149  ENSG00000000460.16  ENSG00000119673.14                       0.868   \n",
       "22859177  ENSG00000000460.16  ENSG00000196150.13                       0.763   \n",
       "22859212  ENSG00000000460.16  ENSG00000156265.15                       0.937   \n",
       "22866545  ENSG00000000460.16  ENSG00000134539.16                       0.781   \n",
       "30486381  ENSG00000000460.16   ENSG00000237693.4                       0.901   \n",
       "30486398  ENSG00000000460.16  ENSG00000079459.12                       0.885   \n",
       "30486412  ENSG00000000460.16  ENSG00000172349.17                       0.923   \n",
       "30486428  ENSG00000000460.16  ENSG00000105793.15                       0.864   \n",
       "30486443  ENSG00000000460.16  ENSG00000127955.16                       0.826   \n",
       "30486478  ENSG00000000460.16  ENSG00000177425.10                       0.771   \n",
       "30486494  ENSG00000000460.16  ENSG00000175344.17                       0.831   \n",
       "30486513  ENSG00000000460.16   ENSG00000261857.6                       0.841   \n",
       "30486531  ENSG00000000460.16   ENSG00000268975.2                       0.841   \n",
       "30486545  ENSG00000000460.16  ENSG00000111846.17                       0.755   \n",
       "30486603  ENSG00000000460.16  ENSG00000119673.14                       0.868   \n",
       "30486631  ENSG00000000460.16  ENSG00000196150.13                       0.763   \n",
       "30486666  ENSG00000000460.16  ENSG00000156265.15                       0.937   \n",
       "30493999  ENSG00000000460.16  ENSG00000134539.16                       0.781   \n",
       "\n",
       "          promoter_length  pme_TPM_x      complete_name  pme_TPM_y  hits  \n",
       "7604019               500       0.88  liver_ENCFF658MFL       0.13    60  \n",
       "7604036               500       0.88  liver_ENCFF658MFL      21.23    60  \n",
       "7604050               500       0.88  liver_ENCFF658MFL       1.33    60  \n",
       "7604066               500       0.88  liver_ENCFF658MFL       7.56    60  \n",
       "7604081               500       0.88  liver_ENCFF658MFL       8.64    60  \n",
       "7604116               500       0.88  liver_ENCFF658MFL      11.66    60  \n",
       "7604132               500       0.88  liver_ENCFF658MFL       1.07    60  \n",
       "7604151               500       0.88  liver_ENCFF658MFL       0.88    60  \n",
       "7604169               500       0.88  liver_ENCFF658MFL       0.07    60  \n",
       "7604183               500       0.88  liver_ENCFF658MFL       5.51    60  \n",
       "7604241               500       0.88  liver_ENCFF658MFL      54.41    60  \n",
       "7604269               500       0.88  liver_ENCFF658MFL       2.54    60  \n",
       "7604304               500       0.88  liver_ENCFF658MFL       2.02    60  \n",
       "7611637               500       0.88  liver_ENCFF658MFL       0.77    60  \n",
       "15231473              500       0.64  liver_ENCFF296APA       0.10    60  \n",
       "15231490              500       0.64  liver_ENCFF296APA      20.13    60  \n",
       "15231504              500       0.64  liver_ENCFF296APA       1.15    60  \n",
       "15231520              500       0.64  liver_ENCFF296APA       6.79    60  \n",
       "15231535              500       0.64  liver_ENCFF296APA       6.85    60  \n",
       "15231570              500       0.64  liver_ENCFF296APA      13.38    60  \n",
       "15231586              500       0.64  liver_ENCFF296APA       0.81    60  \n",
       "15231605              500       0.64  liver_ENCFF296APA       0.66    60  \n",
       "15231623              500       0.64  liver_ENCFF296APA       0.06    60  \n",
       "15231637              500       0.64  liver_ENCFF296APA       4.53    60  \n",
       "15231695              500       0.64  liver_ENCFF296APA      54.83    60  \n",
       "15231723              500       0.64  liver_ENCFF296APA       2.12    60  \n",
       "15231758              500       0.64  liver_ENCFF296APA       1.94    60  \n",
       "15239091              500       0.64  liver_ENCFF296APA       0.55    60  \n",
       "22858927              500       1.22  heart_ENCFF417VDK       0.16    60  \n",
       "22858944              500       1.22  heart_ENCFF417VDK      32.92    60  \n",
       "22858958              500       1.22  heart_ENCFF417VDK       9.66    60  \n",
       "22858974              500       1.22  heart_ENCFF417VDK      12.64    60  \n",
       "22858989              500       1.22  heart_ENCFF417VDK       9.81    60  \n",
       "22859024              500       1.22  heart_ENCFF417VDK      11.76    60  \n",
       "22859040              500       1.22  heart_ENCFF417VDK       1.45    60  \n",
       "22859059              500       1.22  heart_ENCFF417VDK       1.06    60  \n",
       "22859077              500       1.22  heart_ENCFF417VDK       0.05    60  \n",
       "22859091              500       1.22  heart_ENCFF417VDK      22.74    60  \n",
       "22859149              500       1.22  heart_ENCFF417VDK      59.93    60  \n",
       "22859177              500       1.22  heart_ENCFF417VDK       5.01    60  \n",
       "22859212              500       1.22  heart_ENCFF417VDK       3.55    60  \n",
       "22866545              500       1.22  heart_ENCFF417VDK       1.81    60  \n",
       "30486381              500       0.92  heart_ENCFF789UOH       0.19    60  \n",
       "30486398              500       0.92  heart_ENCFF789UOH      35.32    60  \n",
       "30486412              500       0.92  heart_ENCFF789UOH       2.45    60  \n",
       "30486428              500       0.92  heart_ENCFF789UOH      11.18    60  \n",
       "30486443              500       0.92  heart_ENCFF789UOH       9.72    60  \n",
       "30486478              500       0.92  heart_ENCFF789UOH      12.00    60  \n",
       "30486494              500       0.92  heart_ENCFF789UOH       2.54    60  \n",
       "30486513              500       0.92  heart_ENCFF789UOH       0.79    60  \n",
       "30486531              500       0.92  heart_ENCFF789UOH       0.13    60  \n",
       "30486545              500       0.92  heart_ENCFF789UOH      30.81    60  \n",
       "30486603              500       0.92  heart_ENCFF789UOH      80.24    60  \n",
       "30486631              500       0.92  heart_ENCFF789UOH       5.85    60  \n",
       "30486666              500       0.92  heart_ENCFF789UOH       5.07    60  \n",
       "30493999              500       0.92  heart_ENCFF789UOH       1.06    60  "
      ]
     },
     "execution_count": 206,
     "metadata": {},
     "output_type": "execute_result"
    }
   ],
   "source": [
    "# explore one gene from df_count\n",
    "gene = \"ENSG00000000460.16\"\n",
    "df_gene = df_complete[df_complete[\"gene1\"] == gene]\n",
    "df_gene"
   ]
  },
  {
   "cell_type": "code",
   "execution_count": 8,
   "metadata": {},
   "outputs": [
    {
     "data": {
      "application/vnd.plotly.v1+json": {
       "config": {
        "plotlyServerURL": "https://plot.ly"
       },
       "data": [
        {
         "hovertemplate": "complete_name=liver_ENCFF658MFL<br>similarity_protein=%{x}<br>TPM_similarity=%{y}<extra></extra>",
         "legendgroup": "liver_ENCFF658MFL",
         "marker": {
          "color": "#3f8fc5",
          "symbol": "circle"
         },
         "mode": "markers",
         "name": "liver_ENCFF658MFL",
         "orientation": "v",
         "showlegend": true,
         "type": "scatter",
         "x": [
          1,
          0.382,
          0.465,
          0.492,
          0.509,
          0.469,
          0.38,
          0.415,
          0.262,
          0.411,
          0.394,
          0.328,
          0.273,
          0.257,
          0.33,
          0.341,
          0.31
         ],
         "xaxis": "x",
         "y": [
          0,
          -4.8547838223368,
          -0.7777045685880083,
          -2.991802995414101,
          -0.34830669426821564,
          -1.7241661780955266,
          -0.6737290947028437,
          -4.106040601985292,
          -3.1714964298017865,
          0,
          -2.168493319295738,
          -1.1180303745252114,
          -1.1592369104845446,
          -0.9808292530117262,
          -1.8852855272388784,
          -4.437099542022809,
          -0.7777045685880083
         ],
         "yaxis": "y"
        },
        {
         "hovertemplate": "complete_name=liver_ENCFF296APA<br>similarity_protein=%{x}<br>TPM_similarity=%{y}<extra></extra>",
         "legendgroup": "liver_ENCFF296APA",
         "marker": {
          "color": "#08488e",
          "symbol": "circle"
         },
         "mode": "markers",
         "name": "liver_ENCFF296APA",
         "orientation": "v",
         "showlegend": true,
         "type": "scatter",
         "x": [
          1,
          0.382,
          0.465,
          0.492,
          0.509,
          0.469,
          0.38,
          0.415,
          0.262,
          0.411,
          0.394,
          0.328,
          0.273,
          0.257,
          0.33,
          0.341,
          0.31
         ],
         "xaxis": "x",
         "y": [
          0,
          -4.647852743668727,
          -0.906405972641613,
          -2.906632278767945,
          -0.39730179746900346,
          -1.8705403470811695,
          -1.0663514264498881,
          -3.9188846562675113,
          -3.008761773844325,
          -0.17904823144898546,
          -1.919811396087952,
          -0.7254080427781667,
          -0.6427163269330534,
          -1.5451179466465412,
          -1.7640568666787193,
          -4.226235265389163,
          -0.3434734320801966
         ],
         "yaxis": "y"
        },
        {
         "hovertemplate": "complete_name=heart_ENCFF417VDK<br>similarity_protein=%{x}<br>TPM_similarity=%{y}<extra></extra>",
         "legendgroup": "heart_ENCFF417VDK",
         "marker": {
          "color": "#ec382b",
          "symbol": "circle"
         },
         "mode": "markers",
         "name": "heart_ENCFF417VDK",
         "orientation": "v",
         "showlegend": true,
         "type": "scatter",
         "x": [
          1,
          0.382,
          0.465,
          0.492,
          0.509,
          0.469,
          0.38,
          0.415,
          0.262,
          0.411,
          0.394,
          0.328,
          0.273,
          0.257,
          0.33,
          0.341,
          0.31
         ],
         "xaxis": "x",
         "y": [
          0,
          -0.9467241879543375,
          -2.954776149867148,
          -1.2799796469163824,
          -0.728978200086872,
          -2.6113943380174947,
          -2.315544237636551,
          -2.8966704298580743,
          -0.34956820572604025,
          -2.29849950511553,
          -1.237316260381061,
          -3.1249895235714296,
          -2.1513628821001176,
          -3.962079483771819,
          -1.4696330506829829,
          -3.3231971741702058,
          -1.2315307483895939
         ],
         "yaxis": "y"
        },
        {
         "hovertemplate": "complete_name=heart_ENCFF789UOH<br>similarity_protein=%{x}<br>TPM_similarity=%{y}<extra></extra>",
         "legendgroup": "heart_ENCFF789UOH",
         "marker": {
          "color": "#940b13",
          "symbol": "circle"
         },
         "mode": "markers",
         "name": "heart_ENCFF789UOH",
         "orientation": "v",
         "showlegend": true,
         "type": "scatter",
         "x": [
          1,
          0.382,
          0.465,
          0.492,
          0.509,
          0.469,
          0.38,
          0.415,
          0.262,
          0.411,
          0.394,
          0.328,
          0.273,
          0.257,
          0.33,
          0.341,
          0.31
         ],
         "xaxis": "x",
         "y": [
          0,
          -0.0818945600546102,
          -2.0318416956276373,
          -0.4234946262809196,
          -0.2510501576662604,
          -1.4275233033529815,
          -4.587746544840837,
          -1.6495121714105938,
          -0.991680390332639,
          -0.3927418953575064,
          -0.4843521470988193,
          -1.9391475428941476,
          -0.5623948541056887,
          -2.8999872165956067,
          -0.7811987194463048,
          -2.682186690512291,
          -1.873654029282665
         ],
         "yaxis": "y"
        }
       ],
       "layout": {
        "autosize": false,
        "height": 500,
        "legend": {
         "title": {
          "text": "complete_name"
         },
         "tracegroupgap": 0
        },
        "margin": {
         "b": 100,
         "l": 50,
         "pad": 4,
         "r": 50,
         "t": 100
        },
        "plot_bgcolor": "white",
        "template": {
         "data": {
          "bar": [
           {
            "error_x": {
             "color": "#2a3f5f"
            },
            "error_y": {
             "color": "#2a3f5f"
            },
            "marker": {
             "line": {
              "color": "#E5ECF6",
              "width": 0.5
             },
             "pattern": {
              "fillmode": "overlay",
              "size": 10,
              "solidity": 0.2
             }
            },
            "type": "bar"
           }
          ],
          "barpolar": [
           {
            "marker": {
             "line": {
              "color": "#E5ECF6",
              "width": 0.5
             },
             "pattern": {
              "fillmode": "overlay",
              "size": 10,
              "solidity": 0.2
             }
            },
            "type": "barpolar"
           }
          ],
          "carpet": [
           {
            "aaxis": {
             "endlinecolor": "#2a3f5f",
             "gridcolor": "white",
             "linecolor": "white",
             "minorgridcolor": "white",
             "startlinecolor": "#2a3f5f"
            },
            "baxis": {
             "endlinecolor": "#2a3f5f",
             "gridcolor": "white",
             "linecolor": "white",
             "minorgridcolor": "white",
             "startlinecolor": "#2a3f5f"
            },
            "type": "carpet"
           }
          ],
          "choropleth": [
           {
            "colorbar": {
             "outlinewidth": 0,
             "ticks": ""
            },
            "type": "choropleth"
           }
          ],
          "contour": [
           {
            "colorbar": {
             "outlinewidth": 0,
             "ticks": ""
            },
            "colorscale": [
             [
              0,
              "#0d0887"
             ],
             [
              0.1111111111111111,
              "#46039f"
             ],
             [
              0.2222222222222222,
              "#7201a8"
             ],
             [
              0.3333333333333333,
              "#9c179e"
             ],
             [
              0.4444444444444444,
              "#bd3786"
             ],
             [
              0.5555555555555556,
              "#d8576b"
             ],
             [
              0.6666666666666666,
              "#ed7953"
             ],
             [
              0.7777777777777778,
              "#fb9f3a"
             ],
             [
              0.8888888888888888,
              "#fdca26"
             ],
             [
              1,
              "#f0f921"
             ]
            ],
            "type": "contour"
           }
          ],
          "contourcarpet": [
           {
            "colorbar": {
             "outlinewidth": 0,
             "ticks": ""
            },
            "type": "contourcarpet"
           }
          ],
          "heatmap": [
           {
            "colorbar": {
             "outlinewidth": 0,
             "ticks": ""
            },
            "colorscale": [
             [
              0,
              "#0d0887"
             ],
             [
              0.1111111111111111,
              "#46039f"
             ],
             [
              0.2222222222222222,
              "#7201a8"
             ],
             [
              0.3333333333333333,
              "#9c179e"
             ],
             [
              0.4444444444444444,
              "#bd3786"
             ],
             [
              0.5555555555555556,
              "#d8576b"
             ],
             [
              0.6666666666666666,
              "#ed7953"
             ],
             [
              0.7777777777777778,
              "#fb9f3a"
             ],
             [
              0.8888888888888888,
              "#fdca26"
             ],
             [
              1,
              "#f0f921"
             ]
            ],
            "type": "heatmap"
           }
          ],
          "heatmapgl": [
           {
            "colorbar": {
             "outlinewidth": 0,
             "ticks": ""
            },
            "colorscale": [
             [
              0,
              "#0d0887"
             ],
             [
              0.1111111111111111,
              "#46039f"
             ],
             [
              0.2222222222222222,
              "#7201a8"
             ],
             [
              0.3333333333333333,
              "#9c179e"
             ],
             [
              0.4444444444444444,
              "#bd3786"
             ],
             [
              0.5555555555555556,
              "#d8576b"
             ],
             [
              0.6666666666666666,
              "#ed7953"
             ],
             [
              0.7777777777777778,
              "#fb9f3a"
             ],
             [
              0.8888888888888888,
              "#fdca26"
             ],
             [
              1,
              "#f0f921"
             ]
            ],
            "type": "heatmapgl"
           }
          ],
          "histogram": [
           {
            "marker": {
             "pattern": {
              "fillmode": "overlay",
              "size": 10,
              "solidity": 0.2
             }
            },
            "type": "histogram"
           }
          ],
          "histogram2d": [
           {
            "colorbar": {
             "outlinewidth": 0,
             "ticks": ""
            },
            "colorscale": [
             [
              0,
              "#0d0887"
             ],
             [
              0.1111111111111111,
              "#46039f"
             ],
             [
              0.2222222222222222,
              "#7201a8"
             ],
             [
              0.3333333333333333,
              "#9c179e"
             ],
             [
              0.4444444444444444,
              "#bd3786"
             ],
             [
              0.5555555555555556,
              "#d8576b"
             ],
             [
              0.6666666666666666,
              "#ed7953"
             ],
             [
              0.7777777777777778,
              "#fb9f3a"
             ],
             [
              0.8888888888888888,
              "#fdca26"
             ],
             [
              1,
              "#f0f921"
             ]
            ],
            "type": "histogram2d"
           }
          ],
          "histogram2dcontour": [
           {
            "colorbar": {
             "outlinewidth": 0,
             "ticks": ""
            },
            "colorscale": [
             [
              0,
              "#0d0887"
             ],
             [
              0.1111111111111111,
              "#46039f"
             ],
             [
              0.2222222222222222,
              "#7201a8"
             ],
             [
              0.3333333333333333,
              "#9c179e"
             ],
             [
              0.4444444444444444,
              "#bd3786"
             ],
             [
              0.5555555555555556,
              "#d8576b"
             ],
             [
              0.6666666666666666,
              "#ed7953"
             ],
             [
              0.7777777777777778,
              "#fb9f3a"
             ],
             [
              0.8888888888888888,
              "#fdca26"
             ],
             [
              1,
              "#f0f921"
             ]
            ],
            "type": "histogram2dcontour"
           }
          ],
          "mesh3d": [
           {
            "colorbar": {
             "outlinewidth": 0,
             "ticks": ""
            },
            "type": "mesh3d"
           }
          ],
          "parcoords": [
           {
            "line": {
             "colorbar": {
              "outlinewidth": 0,
              "ticks": ""
             }
            },
            "type": "parcoords"
           }
          ],
          "pie": [
           {
            "automargin": true,
            "type": "pie"
           }
          ],
          "scatter": [
           {
            "fillpattern": {
             "fillmode": "overlay",
             "size": 10,
             "solidity": 0.2
            },
            "type": "scatter"
           }
          ],
          "scatter3d": [
           {
            "line": {
             "colorbar": {
              "outlinewidth": 0,
              "ticks": ""
             }
            },
            "marker": {
             "colorbar": {
              "outlinewidth": 0,
              "ticks": ""
             }
            },
            "type": "scatter3d"
           }
          ],
          "scattercarpet": [
           {
            "marker": {
             "colorbar": {
              "outlinewidth": 0,
              "ticks": ""
             }
            },
            "type": "scattercarpet"
           }
          ],
          "scattergeo": [
           {
            "marker": {
             "colorbar": {
              "outlinewidth": 0,
              "ticks": ""
             }
            },
            "type": "scattergeo"
           }
          ],
          "scattergl": [
           {
            "marker": {
             "colorbar": {
              "outlinewidth": 0,
              "ticks": ""
             }
            },
            "type": "scattergl"
           }
          ],
          "scattermapbox": [
           {
            "marker": {
             "colorbar": {
              "outlinewidth": 0,
              "ticks": ""
             }
            },
            "type": "scattermapbox"
           }
          ],
          "scatterpolar": [
           {
            "marker": {
             "colorbar": {
              "outlinewidth": 0,
              "ticks": ""
             }
            },
            "type": "scatterpolar"
           }
          ],
          "scatterpolargl": [
           {
            "marker": {
             "colorbar": {
              "outlinewidth": 0,
              "ticks": ""
             }
            },
            "type": "scatterpolargl"
           }
          ],
          "scatterternary": [
           {
            "marker": {
             "colorbar": {
              "outlinewidth": 0,
              "ticks": ""
             }
            },
            "type": "scatterternary"
           }
          ],
          "surface": [
           {
            "colorbar": {
             "outlinewidth": 0,
             "ticks": ""
            },
            "colorscale": [
             [
              0,
              "#0d0887"
             ],
             [
              0.1111111111111111,
              "#46039f"
             ],
             [
              0.2222222222222222,
              "#7201a8"
             ],
             [
              0.3333333333333333,
              "#9c179e"
             ],
             [
              0.4444444444444444,
              "#bd3786"
             ],
             [
              0.5555555555555556,
              "#d8576b"
             ],
             [
              0.6666666666666666,
              "#ed7953"
             ],
             [
              0.7777777777777778,
              "#fb9f3a"
             ],
             [
              0.8888888888888888,
              "#fdca26"
             ],
             [
              1,
              "#f0f921"
             ]
            ],
            "type": "surface"
           }
          ],
          "table": [
           {
            "cells": {
             "fill": {
              "color": "#EBF0F8"
             },
             "line": {
              "color": "white"
             }
            },
            "header": {
             "fill": {
              "color": "#C8D4E3"
             },
             "line": {
              "color": "white"
             }
            },
            "type": "table"
           }
          ]
         },
         "layout": {
          "annotationdefaults": {
           "arrowcolor": "#2a3f5f",
           "arrowhead": 0,
           "arrowwidth": 1
          },
          "autotypenumbers": "strict",
          "coloraxis": {
           "colorbar": {
            "outlinewidth": 0,
            "ticks": ""
           }
          },
          "colorscale": {
           "diverging": [
            [
             0,
             "#8e0152"
            ],
            [
             0.1,
             "#c51b7d"
            ],
            [
             0.2,
             "#de77ae"
            ],
            [
             0.3,
             "#f1b6da"
            ],
            [
             0.4,
             "#fde0ef"
            ],
            [
             0.5,
             "#f7f7f7"
            ],
            [
             0.6,
             "#e6f5d0"
            ],
            [
             0.7,
             "#b8e186"
            ],
            [
             0.8,
             "#7fbc41"
            ],
            [
             0.9,
             "#4d9221"
            ],
            [
             1,
             "#276419"
            ]
           ],
           "sequential": [
            [
             0,
             "#0d0887"
            ],
            [
             0.1111111111111111,
             "#46039f"
            ],
            [
             0.2222222222222222,
             "#7201a8"
            ],
            [
             0.3333333333333333,
             "#9c179e"
            ],
            [
             0.4444444444444444,
             "#bd3786"
            ],
            [
             0.5555555555555556,
             "#d8576b"
            ],
            [
             0.6666666666666666,
             "#ed7953"
            ],
            [
             0.7777777777777778,
             "#fb9f3a"
            ],
            [
             0.8888888888888888,
             "#fdca26"
            ],
            [
             1,
             "#f0f921"
            ]
           ],
           "sequentialminus": [
            [
             0,
             "#0d0887"
            ],
            [
             0.1111111111111111,
             "#46039f"
            ],
            [
             0.2222222222222222,
             "#7201a8"
            ],
            [
             0.3333333333333333,
             "#9c179e"
            ],
            [
             0.4444444444444444,
             "#bd3786"
            ],
            [
             0.5555555555555556,
             "#d8576b"
            ],
            [
             0.6666666666666666,
             "#ed7953"
            ],
            [
             0.7777777777777778,
             "#fb9f3a"
            ],
            [
             0.8888888888888888,
             "#fdca26"
            ],
            [
             1,
             "#f0f921"
            ]
           ]
          },
          "colorway": [
           "#636efa",
           "#EF553B",
           "#00cc96",
           "#ab63fa",
           "#FFA15A",
           "#19d3f3",
           "#FF6692",
           "#B6E880",
           "#FF97FF",
           "#FECB52"
          ],
          "font": {
           "color": "#2a3f5f"
          },
          "geo": {
           "bgcolor": "white",
           "lakecolor": "white",
           "landcolor": "#E5ECF6",
           "showlakes": true,
           "showland": true,
           "subunitcolor": "white"
          },
          "hoverlabel": {
           "align": "left"
          },
          "hovermode": "closest",
          "mapbox": {
           "style": "light"
          },
          "paper_bgcolor": "white",
          "plot_bgcolor": "#E5ECF6",
          "polar": {
           "angularaxis": {
            "gridcolor": "white",
            "linecolor": "white",
            "ticks": ""
           },
           "bgcolor": "#E5ECF6",
           "radialaxis": {
            "gridcolor": "white",
            "linecolor": "white",
            "ticks": ""
           }
          },
          "scene": {
           "xaxis": {
            "backgroundcolor": "#E5ECF6",
            "gridcolor": "white",
            "gridwidth": 2,
            "linecolor": "white",
            "showbackground": true,
            "ticks": "",
            "zerolinecolor": "white"
           },
           "yaxis": {
            "backgroundcolor": "#E5ECF6",
            "gridcolor": "white",
            "gridwidth": 2,
            "linecolor": "white",
            "showbackground": true,
            "ticks": "",
            "zerolinecolor": "white"
           },
           "zaxis": {
            "backgroundcolor": "#E5ECF6",
            "gridcolor": "white",
            "gridwidth": 2,
            "linecolor": "white",
            "showbackground": true,
            "ticks": "",
            "zerolinecolor": "white"
           }
          },
          "shapedefaults": {
           "line": {
            "color": "#2a3f5f"
           }
          },
          "ternary": {
           "aaxis": {
            "gridcolor": "white",
            "linecolor": "white",
            "ticks": ""
           },
           "baxis": {
            "gridcolor": "white",
            "linecolor": "white",
            "ticks": ""
           },
           "bgcolor": "#E5ECF6",
           "caxis": {
            "gridcolor": "white",
            "linecolor": "white",
            "ticks": ""
           }
          },
          "title": {
           "x": 0.05
          },
          "xaxis": {
           "automargin": true,
           "gridcolor": "white",
           "linecolor": "white",
           "ticks": "",
           "title": {
            "standoff": 15
           },
           "zerolinecolor": "white",
           "zerolinewidth": 2
          },
          "yaxis": {
           "automargin": true,
           "gridcolor": "white",
           "linecolor": "white",
           "ticks": "",
           "title": {
            "standoff": 15
           },
           "zerolinecolor": "white",
           "zerolinewidth": 2
          }
         }
        },
        "width": 600,
        "xaxis": {
         "anchor": "y",
         "domain": [
          0,
          1
         ],
         "linecolor": "black",
         "linewidth": 1,
         "mirror": true,
         "showline": true,
         "title": {
          "text": "similarity_protein"
         }
        },
        "yaxis": {
         "anchor": "x",
         "domain": [
          0,
          1
         ],
         "linecolor": "black",
         "linewidth": 1,
         "mirror": true,
         "showline": true,
         "title": {
          "text": "TPM_similarity"
         }
        }
       }
      }
     },
     "metadata": {},
     "output_type": "display_data"
    }
   ],
   "source": [
    "# extract gene \n",
    "gene = \"ENSG00000119614.2\"\n",
    "\n",
    "df_plot = df_complete[df_complete[\"complete_name\"] == \"liver_ENCFF658MFL\"]\n",
    "genes = [\"ENSG00000229314.5\", \"ENSG00000173432.11\", \"ENSG00000134339.8\", \"ENSG00000159239.13\", \"ENSG00000229314.5\", \"ENSG00000242362.2\"]\n",
    "# # when either gene is gene1 or gene2\n",
    "df_plot = df_complete\n",
    "genes = [\"ENSG00000229314.5\"]\n",
    "#df_plot = df_plot[df_plot[\"gene1\"].isin(genes)]\n",
    "\n",
    "#df_plot_nozeros = df_plot[df_plot[\"pme_TPM_x\"] > 0]\n",
    "#df_plot_nozeros = df_plot[df_plot[\"pme_TPM_y\"] > 0]\n",
    "# add pseudo count to avoid log(0)\n",
    "df_plot[\"pme_TPM_x\"] = df_plot[\"pme_TPM_x\"] + 0.001\n",
    "df_plot[\"pme_TPM_y\"] = df_plot[\"pme_TPM_y\"] + 0.001\n",
    "df_plot[\"TPM_similarity\"] = -abs(np.log(df_plot[\"pme_TPM_x\"] / df_plot[\"pme_TPM_y\"]))\n",
    "blue_palette = sns.color_palette(\"Blues\", n_colors=10)\n",
    "green_palette = sns.color_palette(\"Reds\", n_colors=10)\n",
    "# Create a custom palette with the first two shades of blue and the second two shades of green\n",
    "rgb_colors = [blue_palette[6], blue_palette[9], green_palette[6], green_palette[9]]\n",
    "custom_palette = [mcolors.rgb2hex(color) for color in rgb_colors]\n",
    "\n",
    "# Set the palette\n",
    "sns.set_palette(custom_palette)\n",
    "#sns.scatterplot(data=df_plot, x=\"promoter_similarity_mmseqs\", y=\"TPM_similarity\", hue= \"complete_name\")\n",
    "# plotly \n",
    "\n",
    "# set general plotly figure parameters\n",
    "# white background and square shape\n",
    "\n",
    "fig = px.scatter(df_plot, x=\"similarity_protein\", y=\"TPM_similarity\", color=\"complete_name\", color_discrete_sequence=custom_palette)\n",
    "# Set the layout\n",
    "fig.update_layout(\n",
    "    autosize=False,\n",
    "    width=600,\n",
    "    height=500,\n",
    "    plot_bgcolor='white',\n",
    "    margin=dict(\n",
    "        l=50,\n",
    "        r=50,\n",
    "        b=100,\n",
    "        t=100,\n",
    "        pad=4\n",
    "    )\n",
    ")\n",
    "# add black lines in borders\n",
    "fig.update_xaxes(showline=True, linewidth=1, linecolor='black', mirror=True)\n",
    "fig.update_yaxes(showline=True, linewidth=1, linecolor='black', mirror=True)\n",
    "fig.show()\n"
   ]
  },
  {
   "cell_type": "code",
   "execution_count": 99,
   "metadata": {},
   "outputs": [
    {
     "data": {
      "application/vnd.plotly.v1+json": {
       "config": {
        "plotlyServerURL": "https://plot.ly"
       },
       "data": [
        {
         "hovertemplate": "complete_name=liver_ENCFF658MFL<br>promoter_similarity_mmseqs=%{x}<br>TPM_similarity=%{y}<extra></extra>",
         "legendgroup": "liver_ENCFF658MFL",
         "marker": {
          "color": "#3f8fc5",
          "symbol": "circle"
         },
         "mode": "markers",
         "name": "liver_ENCFF658MFL",
         "orientation": "v",
         "showlegend": true,
         "type": "scatter",
         "x": [
          0.731,
          0.701,
          0.742,
          0.715,
          0.723,
          0.734,
          0.851,
          0.862,
          0.726,
          0.726,
          0.742,
          0.836,
          0.726,
          0.741,
          0.731,
          0.704,
          0.81,
          0.722,
          0.738,
          0.716,
          0.722,
          0.773,
          0.754,
          0.726,
          0.733,
          0.896,
          0.707,
          0.758,
          0.736,
          0.75,
          0.735,
          0.769,
          0.854,
          0.708,
          0.736,
          0.774,
          0.727,
          0.733,
          0.921,
          0.729,
          0.715,
          0.728,
          0.748,
          0.897,
          0.762,
          0.752,
          0.833,
          0.744,
          0.734,
          0.875,
          0.74,
          0.857,
          0.857,
          0.74,
          0.768,
          0.741,
          0.753,
          0.747,
          0.728,
          0.782,
          0.695,
          0.734,
          0.755,
          0.766,
          0.765,
          0.727,
          0.764,
          0.711,
          0.742,
          0.724,
          0.742,
          0.739,
          0.757,
          0.715,
          0.818,
          0.776,
          0.785,
          0.784,
          0.746,
          0.707,
          0.837,
          0.782,
          0.722,
          0.88,
          0.752,
          0.754,
          0.748,
          0.741,
          0.706,
          0.735,
          0.731,
          0.742,
          0.727,
          0.83,
          0.748,
          0.728,
          0.733,
          0.762,
          0.875,
          0.836,
          1,
          0.724,
          0.717,
          0.818,
          0.833,
          0.734,
          0.762,
          0.736,
          0.726,
          0.735,
          0.758,
          0.782,
          0.728,
          0.755,
          0.717,
          0.709,
          0.716,
          0.747,
          0.734,
          0.718,
          0.726,
          0.748,
          0.837,
          0.713,
          0.731,
          0.707,
          0.736,
          0.735,
          0.857,
          0.753,
          0.74,
          0.851,
          0.715,
          0.752,
          0.724,
          0.782,
          0.785,
          0.761,
          0.921,
          0.754,
          0.811,
          0.81,
          0.75,
          0.862,
          0.776,
          0.722,
          0.708,
          0.722,
          0.726,
          0.738,
          0.742,
          0.757,
          0.742,
          0.768,
          0.764,
          0.784,
          0.715,
          0.741,
          0.728,
          0.742,
          0.766,
          0.752,
          0.744,
          0.727,
          0.897,
          0.74,
          0.756,
          0.763,
          0.742,
          0.769,
          0.734,
          0.726,
          0.885,
          0.755,
          0.731,
          0.768,
          0.757,
          0.721,
          0.725,
          0.765,
          0.726,
          0.786,
          0.774,
          0.731,
          0.733,
          0.731,
          0.703,
          0.773,
          0.74,
          0.711,
          0.738,
          0.707,
          0.854,
          0.769,
          0.744,
          0.725,
          0.757,
          0.707,
          0.728,
          0.734,
          0.701,
          0.738,
          0.704,
          0.727,
          0.781,
          0.734,
          0.736,
          0.722,
          0.723,
          0.741,
          0.896,
          0.722,
          0.857,
          0.714,
          0.712,
          0.722,
          0.741,
          0.736,
          0.88,
          0.722,
          0.715,
          0.755,
          0.708,
          0.742,
          0.72
         ],
         "xaxis": "x",
         "y": [
          -3.906004933102583,
          -4.948759890378168,
          -4.565389315976247,
          -1.9459101490553132,
          -2.0412203288596382,
          -1.2527629684953678,
          -3.7062280924485496,
          -0.78845736036427,
          -0.78845736036427,
          -0.9162907318741551,
          -1.3609765531356006,
          -2.631888840136646,
          -0.22314355131420976,
          -1.6094379124341003,
          -5.695414224985685,
          -5.177843213080162,
          -0.5108256237659907,
          -4.874433672915854,
          -0.4700036292457356,
          -0.3566749439387324,
          -4.956531035103055,
          -3.3568971227655755,
          -4.471638793363569,
          -4.115779842942166,
          -4.044804116661965,
          -3.8372994592322094,
          -1.8718021769015913,
          -8.623047585096234,
          -2.0918640616783932,
          -4.952299717083292,
          -1.1939224684724346,
          -4.389498649512583,
          -2.054123733695546,
          -4.155753190350744,
          -3.742420221041966,
          -0.6931471805599453,
          -5.38081858805978,
          -0.6418538861723948,
          0,
          -4.907494535176742,
          -0.78845736036427,
          -4.739701078945697,
          -0.5306282510621704,
          -4.396915247167632,
          -5.37805233456689,
          -4.383275854074314,
          -2.272125885509337,
          -2.0668627594729756,
          -3.9550824948885928,
          -3.8110970868381853,
          -1.2237754316221157,
          -7.166420402363426,
          -5.896604266084022,
          -2.6246685921631587,
          -1.6094379124341003,
          -3.7062280924485496,
          -6.054204576929168,
          -0.3566749439387324,
          -2.7212954278522306,
          -4.843399374720342,
          -2.302585092994046,
          -2.533696813957432,
          -0.22314355131420976,
          -1.6094379124341003,
          -4.685828089005546,
          -2.001480000210124,
          -5.771129548115812,
          -3.0349529867072724,
          -4.874433672915854,
          -1.2039728043259361,
          -2.6246685921631587,
          -5.500032970448626,
          -1.5260563034950494,
          -3.2771447329921766,
          -4.45318382899021,
          -2.4423470353692043,
          -5.818300928098793,
          -0.6931471805599453,
          -0.3364722366212129,
          -0.6418538861723948,
          -3.3775875160230218,
          -5.638710477912486,
          -0.6931471805599453,
          -4.607168188650764,
          -9.113554103288491,
          -0.9162907318741551,
          -2.0149030205422647,
          -3.7062280924485496,
          -1.4350845252893225,
          -1.6094379124341005,
          -0.3566749439387323,
          -4.874433672915854,
          -1.6094379124341005,
          -4.356708826689592,
          -2.322387720290225,
          -2.7212954278522306,
          -0.6418538861723947,
          -1.1631508098056809,
          -3.8110970868381853,
          -2.631888840136646,
          0,
          -1.2039728043259361,
          -0.3566749439387323,
          -4.45318382899021,
          -2.272125885509337,
          -0.3566749439387323,
          -5.37805233456689,
          -3.742420221041966,
          -0.78845736036427,
          -1.6094379124341005,
          -8.623047585096234,
          -5.638710477912486,
          -2.9806186357439426,
          -1.791759469228055,
          -4.207673247529104,
          -3.9945242269398897,
          -0.3566749439387323,
          -0.3566749439387323,
          -3.9550824948885928,
          -4.4942386252808095,
          -0.9162907318741551,
          -0.5306282510621704,
          -3.3775875160230218,
          -0.4054651081081642,
          -0.1823215567939546,
          -0.6418538861723947,
          -2.0918640616783932,
          -1.1939224684724346,
          -5.896604266084022,
          -3.728100167267218,
          -1.2237754316221157,
          -3.7062280924485496,
          -0.78845736036427,
          -4.383275854074314,
          -5.458308102856978,
          -4.843399374720342,
          -5.818300928098793,
          -5.0670156275323635,
          0,
          -4.471638793363569,
          -4.842611042003125,
          -0.5108256237659907,
          -4.952299717083292,
          -0.78845736036427,
          -2.4423470353692043,
          -4.874433672915854,
          -1.6094379124341005,
          -0.6931471805599453,
          -4.115779842942166,
          -0.47000362924573547,
          -4.128745988939433,
          -1.5260563034950492,
          -1.6094379124341005,
          -0.47000362924573547,
          -5.771129548115812,
          -0.6931471805599453,
          -1.9459101490553132,
          -5.320078858329549,
          -5.547518452181536,
          -1.7227665977411037,
          -1.6094379124341005,
          -9.113554103288491,
          -2.8735646395797834,
          -2.001480000210124,
          -4.396915247167632,
          -2.6246685921631587,
          -0.78845736036427,
          -6.141176820336309,
          -2.6246685921631587,
          -1.4350845252893225,
          -1.2527629684953678,
          -0.22314355131420985,
          -4.32280727501391,
          -0.22314355131420985,
          -9.050112932655294,
          -1.6094379124341005,
          -2.066862759472976,
          -7.318738467774207,
          -1.6094379124341005,
          -4.685828089005546,
          -2.251291798606495,
          -2.821378886409213,
          -0.6931471805599453,
          -3.906004933102583,
          -4.044804116661965,
          -5.695414224985685,
          -5.401776074916267,
          -3.3568971227655755,
          -3.7135720667043075,
          -3.0349529867072724,
          -4.942356453342962,
          -1.8718021769015913,
          -2.0541237336955462,
          -4.389498649512583,
          -2.066862759472976,
          -2.653241964607215,
          -2.766319109226186,
          -0.6931471805599453,
          -4.739701078945697,
          -2.533696813957432,
          -5.290789100127245,
          -3.8372994592322094,
          -5.177843213080162,
          -5.38081858805978,
          -1.2237754316221157,
          -3.937690752176724,
          -5.583120298248974,
          -4.956531035103055,
          -4.869839484130799,
          -1.9600947840472698,
          -3.8372994592322094,
          -5.647917341814805,
          -7.166420402363426,
          -3.0106208860477417,
          -6.265871392359733,
          -4.373238128640803,
          -1.6094379124341005,
          -2.1041341542702074,
          -4.607168188650764,
          -2.302585092994046,
          -3.2771447329921766,
          -2.7013612129514133,
          -4.155753190350744,
          -4.565389315976247,
          -2.995732273553991
         ],
         "yaxis": "y"
        }
       ],
       "layout": {
        "autosize": false,
        "height": 500,
        "legend": {
         "title": {
          "text": "complete_name"
         },
         "tracegroupgap": 0
        },
        "margin": {
         "b": 100,
         "l": 50,
         "pad": 4,
         "r": 50,
         "t": 100
        },
        "plot_bgcolor": "white",
        "template": {
         "data": {
          "bar": [
           {
            "error_x": {
             "color": "#2a3f5f"
            },
            "error_y": {
             "color": "#2a3f5f"
            },
            "marker": {
             "line": {
              "color": "#E5ECF6",
              "width": 0.5
             },
             "pattern": {
              "fillmode": "overlay",
              "size": 10,
              "solidity": 0.2
             }
            },
            "type": "bar"
           }
          ],
          "barpolar": [
           {
            "marker": {
             "line": {
              "color": "#E5ECF6",
              "width": 0.5
             },
             "pattern": {
              "fillmode": "overlay",
              "size": 10,
              "solidity": 0.2
             }
            },
            "type": "barpolar"
           }
          ],
          "carpet": [
           {
            "aaxis": {
             "endlinecolor": "#2a3f5f",
             "gridcolor": "white",
             "linecolor": "white",
             "minorgridcolor": "white",
             "startlinecolor": "#2a3f5f"
            },
            "baxis": {
             "endlinecolor": "#2a3f5f",
             "gridcolor": "white",
             "linecolor": "white",
             "minorgridcolor": "white",
             "startlinecolor": "#2a3f5f"
            },
            "type": "carpet"
           }
          ],
          "choropleth": [
           {
            "colorbar": {
             "outlinewidth": 0,
             "ticks": ""
            },
            "type": "choropleth"
           }
          ],
          "contour": [
           {
            "colorbar": {
             "outlinewidth": 0,
             "ticks": ""
            },
            "colorscale": [
             [
              0,
              "#0d0887"
             ],
             [
              0.1111111111111111,
              "#46039f"
             ],
             [
              0.2222222222222222,
              "#7201a8"
             ],
             [
              0.3333333333333333,
              "#9c179e"
             ],
             [
              0.4444444444444444,
              "#bd3786"
             ],
             [
              0.5555555555555556,
              "#d8576b"
             ],
             [
              0.6666666666666666,
              "#ed7953"
             ],
             [
              0.7777777777777778,
              "#fb9f3a"
             ],
             [
              0.8888888888888888,
              "#fdca26"
             ],
             [
              1,
              "#f0f921"
             ]
            ],
            "type": "contour"
           }
          ],
          "contourcarpet": [
           {
            "colorbar": {
             "outlinewidth": 0,
             "ticks": ""
            },
            "type": "contourcarpet"
           }
          ],
          "heatmap": [
           {
            "colorbar": {
             "outlinewidth": 0,
             "ticks": ""
            },
            "colorscale": [
             [
              0,
              "#0d0887"
             ],
             [
              0.1111111111111111,
              "#46039f"
             ],
             [
              0.2222222222222222,
              "#7201a8"
             ],
             [
              0.3333333333333333,
              "#9c179e"
             ],
             [
              0.4444444444444444,
              "#bd3786"
             ],
             [
              0.5555555555555556,
              "#d8576b"
             ],
             [
              0.6666666666666666,
              "#ed7953"
             ],
             [
              0.7777777777777778,
              "#fb9f3a"
             ],
             [
              0.8888888888888888,
              "#fdca26"
             ],
             [
              1,
              "#f0f921"
             ]
            ],
            "type": "heatmap"
           }
          ],
          "heatmapgl": [
           {
            "colorbar": {
             "outlinewidth": 0,
             "ticks": ""
            },
            "colorscale": [
             [
              0,
              "#0d0887"
             ],
             [
              0.1111111111111111,
              "#46039f"
             ],
             [
              0.2222222222222222,
              "#7201a8"
             ],
             [
              0.3333333333333333,
              "#9c179e"
             ],
             [
              0.4444444444444444,
              "#bd3786"
             ],
             [
              0.5555555555555556,
              "#d8576b"
             ],
             [
              0.6666666666666666,
              "#ed7953"
             ],
             [
              0.7777777777777778,
              "#fb9f3a"
             ],
             [
              0.8888888888888888,
              "#fdca26"
             ],
             [
              1,
              "#f0f921"
             ]
            ],
            "type": "heatmapgl"
           }
          ],
          "histogram": [
           {
            "marker": {
             "pattern": {
              "fillmode": "overlay",
              "size": 10,
              "solidity": 0.2
             }
            },
            "type": "histogram"
           }
          ],
          "histogram2d": [
           {
            "colorbar": {
             "outlinewidth": 0,
             "ticks": ""
            },
            "colorscale": [
             [
              0,
              "#0d0887"
             ],
             [
              0.1111111111111111,
              "#46039f"
             ],
             [
              0.2222222222222222,
              "#7201a8"
             ],
             [
              0.3333333333333333,
              "#9c179e"
             ],
             [
              0.4444444444444444,
              "#bd3786"
             ],
             [
              0.5555555555555556,
              "#d8576b"
             ],
             [
              0.6666666666666666,
              "#ed7953"
             ],
             [
              0.7777777777777778,
              "#fb9f3a"
             ],
             [
              0.8888888888888888,
              "#fdca26"
             ],
             [
              1,
              "#f0f921"
             ]
            ],
            "type": "histogram2d"
           }
          ],
          "histogram2dcontour": [
           {
            "colorbar": {
             "outlinewidth": 0,
             "ticks": ""
            },
            "colorscale": [
             [
              0,
              "#0d0887"
             ],
             [
              0.1111111111111111,
              "#46039f"
             ],
             [
              0.2222222222222222,
              "#7201a8"
             ],
             [
              0.3333333333333333,
              "#9c179e"
             ],
             [
              0.4444444444444444,
              "#bd3786"
             ],
             [
              0.5555555555555556,
              "#d8576b"
             ],
             [
              0.6666666666666666,
              "#ed7953"
             ],
             [
              0.7777777777777778,
              "#fb9f3a"
             ],
             [
              0.8888888888888888,
              "#fdca26"
             ],
             [
              1,
              "#f0f921"
             ]
            ],
            "type": "histogram2dcontour"
           }
          ],
          "mesh3d": [
           {
            "colorbar": {
             "outlinewidth": 0,
             "ticks": ""
            },
            "type": "mesh3d"
           }
          ],
          "parcoords": [
           {
            "line": {
             "colorbar": {
              "outlinewidth": 0,
              "ticks": ""
             }
            },
            "type": "parcoords"
           }
          ],
          "pie": [
           {
            "automargin": true,
            "type": "pie"
           }
          ],
          "scatter": [
           {
            "fillpattern": {
             "fillmode": "overlay",
             "size": 10,
             "solidity": 0.2
            },
            "type": "scatter"
           }
          ],
          "scatter3d": [
           {
            "line": {
             "colorbar": {
              "outlinewidth": 0,
              "ticks": ""
             }
            },
            "marker": {
             "colorbar": {
              "outlinewidth": 0,
              "ticks": ""
             }
            },
            "type": "scatter3d"
           }
          ],
          "scattercarpet": [
           {
            "marker": {
             "colorbar": {
              "outlinewidth": 0,
              "ticks": ""
             }
            },
            "type": "scattercarpet"
           }
          ],
          "scattergeo": [
           {
            "marker": {
             "colorbar": {
              "outlinewidth": 0,
              "ticks": ""
             }
            },
            "type": "scattergeo"
           }
          ],
          "scattergl": [
           {
            "marker": {
             "colorbar": {
              "outlinewidth": 0,
              "ticks": ""
             }
            },
            "type": "scattergl"
           }
          ],
          "scattermapbox": [
           {
            "marker": {
             "colorbar": {
              "outlinewidth": 0,
              "ticks": ""
             }
            },
            "type": "scattermapbox"
           }
          ],
          "scatterpolar": [
           {
            "marker": {
             "colorbar": {
              "outlinewidth": 0,
              "ticks": ""
             }
            },
            "type": "scatterpolar"
           }
          ],
          "scatterpolargl": [
           {
            "marker": {
             "colorbar": {
              "outlinewidth": 0,
              "ticks": ""
             }
            },
            "type": "scatterpolargl"
           }
          ],
          "scatterternary": [
           {
            "marker": {
             "colorbar": {
              "outlinewidth": 0,
              "ticks": ""
             }
            },
            "type": "scatterternary"
           }
          ],
          "surface": [
           {
            "colorbar": {
             "outlinewidth": 0,
             "ticks": ""
            },
            "colorscale": [
             [
              0,
              "#0d0887"
             ],
             [
              0.1111111111111111,
              "#46039f"
             ],
             [
              0.2222222222222222,
              "#7201a8"
             ],
             [
              0.3333333333333333,
              "#9c179e"
             ],
             [
              0.4444444444444444,
              "#bd3786"
             ],
             [
              0.5555555555555556,
              "#d8576b"
             ],
             [
              0.6666666666666666,
              "#ed7953"
             ],
             [
              0.7777777777777778,
              "#fb9f3a"
             ],
             [
              0.8888888888888888,
              "#fdca26"
             ],
             [
              1,
              "#f0f921"
             ]
            ],
            "type": "surface"
           }
          ],
          "table": [
           {
            "cells": {
             "fill": {
              "color": "#EBF0F8"
             },
             "line": {
              "color": "white"
             }
            },
            "header": {
             "fill": {
              "color": "#C8D4E3"
             },
             "line": {
              "color": "white"
             }
            },
            "type": "table"
           }
          ]
         },
         "layout": {
          "annotationdefaults": {
           "arrowcolor": "#2a3f5f",
           "arrowhead": 0,
           "arrowwidth": 1
          },
          "autotypenumbers": "strict",
          "coloraxis": {
           "colorbar": {
            "outlinewidth": 0,
            "ticks": ""
           }
          },
          "colorscale": {
           "diverging": [
            [
             0,
             "#8e0152"
            ],
            [
             0.1,
             "#c51b7d"
            ],
            [
             0.2,
             "#de77ae"
            ],
            [
             0.3,
             "#f1b6da"
            ],
            [
             0.4,
             "#fde0ef"
            ],
            [
             0.5,
             "#f7f7f7"
            ],
            [
             0.6,
             "#e6f5d0"
            ],
            [
             0.7,
             "#b8e186"
            ],
            [
             0.8,
             "#7fbc41"
            ],
            [
             0.9,
             "#4d9221"
            ],
            [
             1,
             "#276419"
            ]
           ],
           "sequential": [
            [
             0,
             "#0d0887"
            ],
            [
             0.1111111111111111,
             "#46039f"
            ],
            [
             0.2222222222222222,
             "#7201a8"
            ],
            [
             0.3333333333333333,
             "#9c179e"
            ],
            [
             0.4444444444444444,
             "#bd3786"
            ],
            [
             0.5555555555555556,
             "#d8576b"
            ],
            [
             0.6666666666666666,
             "#ed7953"
            ],
            [
             0.7777777777777778,
             "#fb9f3a"
            ],
            [
             0.8888888888888888,
             "#fdca26"
            ],
            [
             1,
             "#f0f921"
            ]
           ],
           "sequentialminus": [
            [
             0,
             "#0d0887"
            ],
            [
             0.1111111111111111,
             "#46039f"
            ],
            [
             0.2222222222222222,
             "#7201a8"
            ],
            [
             0.3333333333333333,
             "#9c179e"
            ],
            [
             0.4444444444444444,
             "#bd3786"
            ],
            [
             0.5555555555555556,
             "#d8576b"
            ],
            [
             0.6666666666666666,
             "#ed7953"
            ],
            [
             0.7777777777777778,
             "#fb9f3a"
            ],
            [
             0.8888888888888888,
             "#fdca26"
            ],
            [
             1,
             "#f0f921"
            ]
           ]
          },
          "colorway": [
           "#636efa",
           "#EF553B",
           "#00cc96",
           "#ab63fa",
           "#FFA15A",
           "#19d3f3",
           "#FF6692",
           "#B6E880",
           "#FF97FF",
           "#FECB52"
          ],
          "font": {
           "color": "#2a3f5f"
          },
          "geo": {
           "bgcolor": "white",
           "lakecolor": "white",
           "landcolor": "#E5ECF6",
           "showlakes": true,
           "showland": true,
           "subunitcolor": "white"
          },
          "hoverlabel": {
           "align": "left"
          },
          "hovermode": "closest",
          "mapbox": {
           "style": "light"
          },
          "paper_bgcolor": "white",
          "plot_bgcolor": "#E5ECF6",
          "polar": {
           "angularaxis": {
            "gridcolor": "white",
            "linecolor": "white",
            "ticks": ""
           },
           "bgcolor": "#E5ECF6",
           "radialaxis": {
            "gridcolor": "white",
            "linecolor": "white",
            "ticks": ""
           }
          },
          "scene": {
           "xaxis": {
            "backgroundcolor": "#E5ECF6",
            "gridcolor": "white",
            "gridwidth": 2,
            "linecolor": "white",
            "showbackground": true,
            "ticks": "",
            "zerolinecolor": "white"
           },
           "yaxis": {
            "backgroundcolor": "#E5ECF6",
            "gridcolor": "white",
            "gridwidth": 2,
            "linecolor": "white",
            "showbackground": true,
            "ticks": "",
            "zerolinecolor": "white"
           },
           "zaxis": {
            "backgroundcolor": "#E5ECF6",
            "gridcolor": "white",
            "gridwidth": 2,
            "linecolor": "white",
            "showbackground": true,
            "ticks": "",
            "zerolinecolor": "white"
           }
          },
          "shapedefaults": {
           "line": {
            "color": "#2a3f5f"
           }
          },
          "ternary": {
           "aaxis": {
            "gridcolor": "white",
            "linecolor": "white",
            "ticks": ""
           },
           "baxis": {
            "gridcolor": "white",
            "linecolor": "white",
            "ticks": ""
           },
           "bgcolor": "#E5ECF6",
           "caxis": {
            "gridcolor": "white",
            "linecolor": "white",
            "ticks": ""
           }
          },
          "title": {
           "x": 0.05
          },
          "xaxis": {
           "automargin": true,
           "gridcolor": "white",
           "linecolor": "white",
           "ticks": "",
           "title": {
            "standoff": 15
           },
           "zerolinecolor": "white",
           "zerolinewidth": 2
          },
          "yaxis": {
           "automargin": true,
           "gridcolor": "white",
           "linecolor": "white",
           "ticks": "",
           "title": {
            "standoff": 15
           },
           "zerolinecolor": "white",
           "zerolinewidth": 2
          }
         }
        },
        "width": 600,
        "xaxis": {
         "anchor": "y",
         "domain": [
          0,
          1
         ],
         "linecolor": "black",
         "linewidth": 1,
         "mirror": true,
         "showline": true,
         "title": {
          "text": "promoter_similarity_mmseqs"
         }
        },
        "yaxis": {
         "anchor": "x",
         "domain": [
          0,
          1
         ],
         "linecolor": "black",
         "linewidth": 1,
         "mirror": true,
         "showline": true,
         "title": {
          "text": "TPM_similarity"
         }
        }
       }
      }
     },
     "metadata": {},
     "output_type": "display_data"
    },
    {
     "data": {
      "text/html": [
       "<div>\n",
       "<style scoped>\n",
       "    .dataframe tbody tr th:only-of-type {\n",
       "        vertical-align: middle;\n",
       "    }\n",
       "\n",
       "    .dataframe tbody tr th {\n",
       "        vertical-align: top;\n",
       "    }\n",
       "\n",
       "    .dataframe thead th {\n",
       "        text-align: right;\n",
       "    }\n",
       "</style>\n",
       "<table border=\"1\" class=\"dataframe\">\n",
       "  <thead>\n",
       "    <tr style=\"text-align: right;\">\n",
       "      <th></th>\n",
       "      <th>gene1</th>\n",
       "      <th>gene2</th>\n",
       "      <th>promoter_similarity_mmseqs</th>\n",
       "      <th>promoter_length</th>\n",
       "      <th>pme_TPM_x</th>\n",
       "      <th>complete_name</th>\n",
       "      <th>pme_TPM_y</th>\n",
       "      <th>TPM_similarity</th>\n",
       "    </tr>\n",
       "  </thead>\n",
       "  <tbody>\n",
       "    <tr>\n",
       "      <th>93644</th>\n",
       "      <td>ENSG00000162998.4</td>\n",
       "      <td>ENSG00000123146.19</td>\n",
       "      <td>0.731</td>\n",
       "      <td>500</td>\n",
       "      <td>0.10</td>\n",
       "      <td>liver_ENCFF658MFL</td>\n",
       "      <td>4.97</td>\n",
       "      <td>-3.906005</td>\n",
       "    </tr>\n",
       "    <tr>\n",
       "      <th>197993</th>\n",
       "      <td>ENSG00000162998.4</td>\n",
       "      <td>ENSG00000125648.14</td>\n",
       "      <td>0.701</td>\n",
       "      <td>500</td>\n",
       "      <td>0.10</td>\n",
       "      <td>liver_ENCFF658MFL</td>\n",
       "      <td>14.10</td>\n",
       "      <td>-4.948760</td>\n",
       "    </tr>\n",
       "    <tr>\n",
       "      <th>273369</th>\n",
       "      <td>ENSG00000162998.4</td>\n",
       "      <td>ENSG00000197217.12</td>\n",
       "      <td>0.742</td>\n",
       "      <td>500</td>\n",
       "      <td>0.10</td>\n",
       "      <td>liver_ENCFF658MFL</td>\n",
       "      <td>9.61</td>\n",
       "      <td>-4.565389</td>\n",
       "    </tr>\n",
       "    <tr>\n",
       "      <th>415772</th>\n",
       "      <td>ENSG00000162998.4</td>\n",
       "      <td>ENSG00000174928.15</td>\n",
       "      <td>0.715</td>\n",
       "      <td>500</td>\n",
       "      <td>0.10</td>\n",
       "      <td>liver_ENCFF658MFL</td>\n",
       "      <td>0.70</td>\n",
       "      <td>-1.945910</td>\n",
       "    </tr>\n",
       "    <tr>\n",
       "      <th>439920</th>\n",
       "      <td>ENSG00000162998.4</td>\n",
       "      <td>ENSG00000148288.12</td>\n",
       "      <td>0.723</td>\n",
       "      <td>500</td>\n",
       "      <td>0.10</td>\n",
       "      <td>liver_ENCFF658MFL</td>\n",
       "      <td>0.77</td>\n",
       "      <td>-2.041220</td>\n",
       "    </tr>\n",
       "    <tr>\n",
       "      <th>...</th>\n",
       "      <td>...</td>\n",
       "      <td>...</td>\n",
       "      <td>...</td>\n",
       "      <td>...</td>\n",
       "      <td>...</td>\n",
       "      <td>...</td>\n",
       "      <td>...</td>\n",
       "      <td>...</td>\n",
       "    </tr>\n",
       "    <tr>\n",
       "      <th>7586152</th>\n",
       "      <td>ENSG00000167447.12</td>\n",
       "      <td>ENSG00000162998.4</td>\n",
       "      <td>0.715</td>\n",
       "      <td>500</td>\n",
       "      <td>2.65</td>\n",
       "      <td>liver_ENCFF658MFL</td>\n",
       "      <td>0.10</td>\n",
       "      <td>-3.277145</td>\n",
       "    </tr>\n",
       "    <tr>\n",
       "      <th>7586153</th>\n",
       "      <td>ENSG00000132881.11</td>\n",
       "      <td>ENSG00000162998.4</td>\n",
       "      <td>0.755</td>\n",
       "      <td>500</td>\n",
       "      <td>1.49</td>\n",
       "      <td>liver_ENCFF658MFL</td>\n",
       "      <td>0.10</td>\n",
       "      <td>-2.701361</td>\n",
       "    </tr>\n",
       "    <tr>\n",
       "      <th>7586154</th>\n",
       "      <td>ENSG00000065833.8</td>\n",
       "      <td>ENSG00000162998.4</td>\n",
       "      <td>0.708</td>\n",
       "      <td>500</td>\n",
       "      <td>6.38</td>\n",
       "      <td>liver_ENCFF658MFL</td>\n",
       "      <td>0.10</td>\n",
       "      <td>-4.155753</td>\n",
       "    </tr>\n",
       "    <tr>\n",
       "      <th>7586155</th>\n",
       "      <td>ENSG00000197217.12</td>\n",
       "      <td>ENSG00000162998.4</td>\n",
       "      <td>0.742</td>\n",
       "      <td>500</td>\n",
       "      <td>9.61</td>\n",
       "      <td>liver_ENCFF658MFL</td>\n",
       "      <td>0.10</td>\n",
       "      <td>-4.565389</td>\n",
       "    </tr>\n",
       "    <tr>\n",
       "      <th>7586156</th>\n",
       "      <td>ENSG00000177034.15</td>\n",
       "      <td>ENSG00000162998.4</td>\n",
       "      <td>0.720</td>\n",
       "      <td>500</td>\n",
       "      <td>2.00</td>\n",
       "      <td>liver_ENCFF658MFL</td>\n",
       "      <td>0.10</td>\n",
       "      <td>-2.995732</td>\n",
       "    </tr>\n",
       "  </tbody>\n",
       "</table>\n",
       "<p>225 rows × 8 columns</p>\n",
       "</div>"
      ],
      "text/plain": [
       "                      gene1               gene2  promoter_similarity_mmseqs  \\\n",
       "93644     ENSG00000162998.4  ENSG00000123146.19                       0.731   \n",
       "197993    ENSG00000162998.4  ENSG00000125648.14                       0.701   \n",
       "273369    ENSG00000162998.4  ENSG00000197217.12                       0.742   \n",
       "415772    ENSG00000162998.4  ENSG00000174928.15                       0.715   \n",
       "439920    ENSG00000162998.4  ENSG00000148288.12                       0.723   \n",
       "...                     ...                 ...                         ...   \n",
       "7586152  ENSG00000167447.12   ENSG00000162998.4                       0.715   \n",
       "7586153  ENSG00000132881.11   ENSG00000162998.4                       0.755   \n",
       "7586154   ENSG00000065833.8   ENSG00000162998.4                       0.708   \n",
       "7586155  ENSG00000197217.12   ENSG00000162998.4                       0.742   \n",
       "7586156  ENSG00000177034.15   ENSG00000162998.4                       0.720   \n",
       "\n",
       "         promoter_length  pme_TPM_x      complete_name  pme_TPM_y  \\\n",
       "93644                500       0.10  liver_ENCFF658MFL       4.97   \n",
       "197993               500       0.10  liver_ENCFF658MFL      14.10   \n",
       "273369               500       0.10  liver_ENCFF658MFL       9.61   \n",
       "415772               500       0.10  liver_ENCFF658MFL       0.70   \n",
       "439920               500       0.10  liver_ENCFF658MFL       0.77   \n",
       "...                  ...        ...                ...        ...   \n",
       "7586152              500       2.65  liver_ENCFF658MFL       0.10   \n",
       "7586153              500       1.49  liver_ENCFF658MFL       0.10   \n",
       "7586154              500       6.38  liver_ENCFF658MFL       0.10   \n",
       "7586155              500       9.61  liver_ENCFF658MFL       0.10   \n",
       "7586156              500       2.00  liver_ENCFF658MFL       0.10   \n",
       "\n",
       "         TPM_similarity  \n",
       "93644         -3.906005  \n",
       "197993        -4.948760  \n",
       "273369        -4.565389  \n",
       "415772        -1.945910  \n",
       "439920        -2.041220  \n",
       "...                 ...  \n",
       "7586152       -3.277145  \n",
       "7586153       -2.701361  \n",
       "7586154       -4.155753  \n",
       "7586155       -4.565389  \n",
       "7586156       -2.995732  \n",
       "\n",
       "[225 rows x 8 columns]"
      ]
     },
     "execution_count": 99,
     "metadata": {},
     "output_type": "execute_result"
    }
   ],
   "source": [
    "# Explore all genes\n",
    "# Select one sample only \n",
    "df = df_plot[df_plot[\"complete_name\"] == \"liver_ENCFF658MFL\"]\n",
    "\n",
    "fig = px.scatter(df, x=\"promoter_similarity_mmseqs\", y=\"TPM_similarity\", color=\"complete_name\", color_discrete_sequence=custom_palette)\n",
    "# Set the layout\n",
    "fig.update_layout(\n",
    "    autosize=False,\n",
    "    width=600,\n",
    "    height=500,\n",
    "    plot_bgcolor='white',\n",
    "    margin=dict(\n",
    "        l=50,\n",
    "        r=50,\n",
    "        b=100,\n",
    "        t=100,\n",
    "        pad=4\n",
    "    )\n",
    ")\n",
    "# add black lines in borders\n",
    "fig.update_xaxes(showline=True, linewidth=1, linecolor='black', mirror=True)\n",
    "fig.update_yaxes(showline=True, linewidth=1, linecolor='black', mirror=True)\n",
    "fig.show()\n",
    "\n",
    "df"
   ]
  }
 ],
 "metadata": {
  "kernelspec": {
   "display_name": "base",
   "language": "python",
   "name": "python3"
  },
  "language_info": {
   "codemirror_mode": {
    "name": "ipython",
    "version": 3
   },
   "file_extension": ".py",
   "mimetype": "text/x-python",
   "name": "python",
   "nbconvert_exporter": "python",
   "pygments_lexer": "ipython3",
   "version": "3.10.12"
  }
 },
 "nbformat": 4,
 "nbformat_minor": 2
}
